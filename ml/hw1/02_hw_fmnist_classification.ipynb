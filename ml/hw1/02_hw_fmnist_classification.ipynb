{
 "cells": [
  {
   "cell_type": "markdown",
   "metadata": {
    "id": "nDsVMGiVgSq2"
   },
   "source": [
    "## Классификация FashionMNIST\n",
    "\n",
    "##### Автор: [Радослав Нейчев](https://www.linkedin.com/in/radoslav-neychev/), https://t.me/s/girafe_ai"
   ]
  },
  {
   "cell_type": "code",
   "execution_count": 1,
   "metadata": {
    "execution": {
     "iopub.execute_input": "2025-04-09T12:49:30.786786Z",
     "iopub.status.busy": "2025-04-09T12:49:30.785198Z",
     "iopub.status.idle": "2025-04-09T12:49:32.520985Z",
     "shell.execute_reply": "2025-04-09T12:49:32.519927Z",
     "shell.execute_reply.started": "2025-04-09T12:49:30.786729Z"
    },
    "id": "3isBRG6PgSq6",
    "tags": []
   },
   "outputs": [],
   "source": [
    "# do not change the code in the block below\n",
    "# __________start of block__________\n",
    "import json\n",
    "import os\n",
    "import re\n",
    "\n",
    "import numpy as np\n",
    "import torch\n",
    "import torchvision\n",
    "from IPython.display import clear_output\n",
    "from matplotlib import pyplot as plt\n",
    "from torch import nn\n",
    "from torch.nn import functional as F\n",
    "from torchvision.datasets import FashionMNIST\n",
    "\n",
    "# __________end of block__________"
   ]
  },
  {
   "cell_type": "code",
   "execution_count": 2,
   "metadata": {
    "execution": {
     "iopub.execute_input": "2025-04-09T12:49:32.525237Z",
     "iopub.status.busy": "2025-04-09T12:49:32.522888Z",
     "iopub.status.idle": "2025-04-09T12:49:32.546489Z",
     "shell.execute_reply": "2025-04-09T12:49:32.545247Z",
     "shell.execute_reply.started": "2025-04-09T12:49:32.525187Z"
    },
    "tags": []
   },
   "outputs": [],
   "source": [
    "# do not change the code in the block below\n",
    "# __________start of block__________\n",
    "\n",
    "\n",
    "def parse_pytorch_model(model_str):\n",
    "    def parse_layer(layer_str):\n",
    "        layer_info = {}\n",
    "        layer_name, params = layer_str.split(\"(\", 1)\n",
    "        params = params.rstrip(\")\")\n",
    "        layer_info[\"type\"] = layer_name.strip()\n",
    "        param_dict = {}\n",
    "        for param in params.split(\", \"):\n",
    "            if \"=\" in param:\n",
    "                key, value = param.split(\"=\")\n",
    "                param_dict[key.strip()] = eval(value.strip())\n",
    "            else:\n",
    "                param_dict[param.strip()] = None\n",
    "        layer_info[\"parameters\"] = param_dict\n",
    "        return layer_info\n",
    "\n",
    "    model_dict = {}\n",
    "    lines = model_str.splitlines()\n",
    "    model_name = lines[0].strip(\"()\")\n",
    "    model_dict[\"model_name\"] = model_name\n",
    "    model_dict[\"layers\"] = []\n",
    "\n",
    "    layer_regex = re.compile(r\"\\((\\d+)\\): (.+)\")\n",
    "    for line in lines[1:]:\n",
    "        line = line.strip()\n",
    "        match = layer_regex.match(line)\n",
    "        if match:\n",
    "            index, layer = match.groups()\n",
    "            model_dict[\"layers\"].append({\"index\": int(index), \"layer\": parse_layer(layer)})\n",
    "    return model_dict\n",
    "\n",
    "\n",
    "# __________end of block__________"
   ]
  },
  {
   "cell_type": "code",
   "execution_count": 3,
   "metadata": {
    "execution": {
     "iopub.execute_input": "2025-04-09T12:49:32.549050Z",
     "iopub.status.busy": "2025-04-09T12:49:32.548177Z",
     "iopub.status.idle": "2025-04-09T12:49:32.623454Z",
     "shell.execute_reply": "2025-04-09T12:49:32.622347Z",
     "shell.execute_reply.started": "2025-04-09T12:49:32.549005Z"
    },
    "tags": []
   },
   "outputs": [],
   "source": [
    "# do not change the code in the block below\n",
    "# __________start of block__________\n",
    "def get_predictions(model, eval_data, step=10):\n",
    "\n",
    "    predicted_labels = []\n",
    "    model.eval()\n",
    "    with torch.no_grad():\n",
    "        for idx in range(0, len(eval_data), step):\n",
    "            y_predicted = model(eval_data[idx : idx + step].to(device))\n",
    "            predicted_labels.append(y_predicted.argmax(dim=1).cpu())\n",
    "\n",
    "    predicted_labels = torch.cat(predicted_labels)\n",
    "    predicted_labels = \",\".join([str(x.item()) for x in list(predicted_labels)])\n",
    "    return predicted_labels\n",
    "\n",
    "\n",
    "def get_accuracy(model, data_loader):\n",
    "    predicted_labels = []\n",
    "    real_labels = []\n",
    "    model.eval()\n",
    "    with torch.no_grad():\n",
    "        for batch in data_loader:\n",
    "            y_predicted = model(batch[0].to(device))\n",
    "            predicted_labels.append(y_predicted.argmax(dim=1).cpu())\n",
    "            real_labels.append(batch[1])\n",
    "\n",
    "    predicted_labels = torch.cat(predicted_labels)\n",
    "    real_labels = torch.cat(real_labels)\n",
    "    accuracy_score = (predicted_labels == real_labels).type(torch.FloatTensor).mean()\n",
    "    return accuracy_score\n",
    "\n",
    "\n",
    "# __________end of block__________"
   ]
  },
  {
   "cell_type": "markdown",
   "metadata": {},
   "source": [
    "Загрузите файл `hw_overfitting_data_dict.npy` (ссылка есть на странице с заданием), он понадобится для генерации посылок. Код ниже может его загрузить (но в случае возникновения ошибки скачайте и загрузите его вручную).\n"
   ]
  },
  {
   "cell_type": "code",
   "execution_count": 4,
   "metadata": {
    "execution": {
     "iopub.execute_input": "2025-04-09T12:49:32.626922Z",
     "iopub.status.busy": "2025-04-09T12:49:32.626319Z",
     "iopub.status.idle": "2025-04-09T12:49:32.704539Z",
     "shell.execute_reply": "2025-04-09T12:49:32.703393Z",
     "shell.execute_reply.started": "2025-04-09T12:49:32.626879Z"
    },
    "tags": []
   },
   "outputs": [],
   "source": [
    "# !wget https://github.com/girafe-ai/ml-course/raw/24f_ysda/homeworks/hw_overfitting/hw_overfitting_data_dict -O hw_overfitting_data_dict.npy"
   ]
  },
  {
   "cell_type": "code",
   "execution_count": 5,
   "metadata": {
    "execution": {
     "iopub.execute_input": "2025-04-09T12:49:32.707257Z",
     "iopub.status.busy": "2025-04-09T12:49:32.705829Z",
     "iopub.status.idle": "2025-04-09T12:49:32.729585Z",
     "shell.execute_reply": "2025-04-09T12:49:32.728472Z",
     "shell.execute_reply.started": "2025-04-09T12:49:32.707207Z"
    },
    "tags": []
   },
   "outputs": [],
   "source": [
    "# do not change the code in the block below\n",
    "# __________start of block__________\n",
    "assert os.path.exists(\n",
    "    \"hw_overfitting_data_dict.npy\"\n",
    "), \"Please, download `hw_overfitting_data_dict.npy` and place it in the working directory\"\n",
    "\n",
    "# __________end of block__________"
   ]
  },
  {
   "cell_type": "markdown",
   "metadata": {
    "id": "zeA6Q5-CgSq7"
   },
   "source": [
    "Вернемся к задаче распознавания простых изображений, рассмотренной ранее. Но теперь будем работать с набором данных [FashionMNIST](https://github.com/zalandoresearch/fashion-mnist). В данном задании воспользуемся всем датасетом целиком.\n",
    "\n",
    "__Ваша первая задача: реализовать весь пайплан обучения модели и добиться качества $\\geq 88.5\\%$ на тестовой выборке.__\n",
    "\n",
    "Код для обучения модели в данном задании отсутствует. Присутствует лишь несколько тестов, которые помогут вам отладить свое решение. За примером можно обратиться к ноутбукам с предыдущих занятий."
   ]
  },
  {
   "cell_type": "code",
   "execution_count": 6,
   "metadata": {
    "execution": {
     "iopub.execute_input": "2025-04-09T12:49:32.732704Z",
     "iopub.status.busy": "2025-04-09T12:49:32.730771Z",
     "iopub.status.idle": "2025-04-09T12:49:32.754927Z",
     "shell.execute_reply": "2025-04-09T12:49:32.753807Z",
     "shell.execute_reply.started": "2025-04-09T12:49:32.732651Z"
    }
   },
   "outputs": [],
   "source": [
    "CUDA_DEVICE_ID = 0  # change if needed"
   ]
  },
  {
   "cell_type": "code",
   "execution_count": 7,
   "metadata": {
    "execution": {
     "iopub.execute_input": "2025-04-09T12:49:32.758348Z",
     "iopub.status.busy": "2025-04-09T12:49:32.756941Z",
     "iopub.status.idle": "2025-04-09T12:49:32.814543Z",
     "shell.execute_reply": "2025-04-09T12:49:32.813328Z",
     "shell.execute_reply.started": "2025-04-09T12:49:32.758299Z"
    },
    "id": "nPG1KbQAgl8b"
   },
   "outputs": [],
   "source": [
    "# do not change the code in the block below\n",
    "# __________start of block__________\n",
    "device = (\n",
    "    torch.device(f\"cuda:{CUDA_DEVICE_ID}\") if torch.cuda.is_available() else torch.device(\"cpu\")\n",
    ")\n",
    "# __________end of block__________"
   ]
  },
  {
   "cell_type": "code",
   "execution_count": 8,
   "metadata": {
    "colab": {
     "base_uri": "https://localhost:8080/",
     "height": 809
    },
    "execution": {
     "iopub.execute_input": "2025-04-09T12:49:32.817984Z",
     "iopub.status.busy": "2025-04-09T12:49:32.816076Z",
     "iopub.status.idle": "2025-04-09T12:49:32.908902Z",
     "shell.execute_reply": "2025-04-09T12:49:32.907813Z",
     "shell.execute_reply.started": "2025-04-09T12:49:32.817932Z"
    },
    "id": "aYcL28OsgSq8",
    "outputId": "93aafa07-fb56-43bd-f928-918f45fe30e6",
    "tags": []
   },
   "outputs": [],
   "source": [
    "# do not change the code in the block below\n",
    "# __________start of block__________\n",
    "\n",
    "train_fmnist_data = FashionMNIST(\n",
    "    \".\", train=True, transform=torchvision.transforms.ToTensor(), download=True\n",
    ")\n",
    "test_fmnist_data = FashionMNIST(\n",
    "    \".\", train=False, transform=torchvision.transforms.ToTensor(), download=True\n",
    ")\n",
    "\n",
    "\n",
    "train_data_loader = torch.utils.data.DataLoader(\n",
    "    train_fmnist_data, batch_size=32, shuffle=True, num_workers=2\n",
    ")\n",
    "\n",
    "test_data_loader = torch.utils.data.DataLoader(\n",
    "    test_fmnist_data, batch_size=32, shuffle=False, num_workers=2\n",
    ")"
   ]
  },
  {
   "cell_type": "code",
   "execution_count": 9,
   "metadata": {
    "execution": {
     "iopub.execute_input": "2025-04-09T12:49:32.910939Z",
     "iopub.status.busy": "2025-04-09T12:49:32.910240Z",
     "iopub.status.idle": "2025-04-09T12:49:32.933856Z",
     "shell.execute_reply": "2025-04-09T12:49:32.932606Z",
     "shell.execute_reply.started": "2025-04-09T12:49:32.910893Z"
    }
   },
   "outputs": [
    {
     "data": {
      "text/plain": [
       "Dataset FashionMNIST\n",
       "    Number of datapoints: 60000\n",
       "    Root location: .\n",
       "    Split: Train\n",
       "    StandardTransform\n",
       "Transform: ToTensor()"
      ]
     },
     "execution_count": 9,
     "metadata": {},
     "output_type": "execute_result"
    }
   ],
   "source": [
    "train_fmnist_data"
   ]
  },
  {
   "cell_type": "code",
   "execution_count": 10,
   "metadata": {
    "execution": {
     "iopub.execute_input": "2025-04-09T12:49:32.938019Z",
     "iopub.status.busy": "2025-04-09T12:49:32.937042Z",
     "iopub.status.idle": "2025-04-09T12:49:33.288568Z",
     "shell.execute_reply": "2025-04-09T12:49:33.287270Z",
     "shell.execute_reply.started": "2025-04-09T12:49:32.937970Z"
    }
   },
   "outputs": [
    {
     "data": {
      "text/plain": [
       "Text(0.5, 1.0, 'Image label: 0')"
      ]
     },
     "execution_count": 10,
     "metadata": {},
     "output_type": "execute_result"
    },
    {
     "data": {
      "image/png": "[encoded data removed]",
      "text/plain": [
       "<Figure size 640x480 with 1 Axes>"
      ]
     },
     "metadata": {},
     "output_type": "display_data"
    }
   ],
   "source": [
    "random_batch = next(iter(train_data_loader))\n",
    "_image, _label = random_batch[0][0], random_batch[1][0]\n",
    "plt.figure()\n",
    "plt.imshow(_image.reshape(28, 28))\n",
    "plt.title(f\"Image label: {_label}\")\n",
    "# __________end of block__________"
   ]
  },
  {
   "cell_type": "markdown",
   "metadata": {
    "id": "S6jWRv1rgSq8"
   },
   "source": [
    "Постройте модель ниже. Пожалуйста, не стройте переусложненную сеть, не стоит делать ее глубже четырех слоев (можно и меньше). Ваша основная задача – обучить модель и получить качество на отложенной (тестовой выборке) не менее 88.5% accuracy.\n",
    "\n",
    "__Внимание, ваша модель должна быть представлена именно переменной `model_task_1`. На вход ей должен приходить тензор размерностью (1, 28, 28).__"
   ]
  },
  {
   "cell_type": "code",
   "execution_count": 11,
   "metadata": {
    "execution": {
     "iopub.execute_input": "2025-04-09T12:49:33.291460Z",
     "iopub.status.busy": "2025-04-09T12:49:33.290204Z",
     "iopub.status.idle": "2025-04-09T12:49:33.309222Z",
     "shell.execute_reply": "2025-04-09T12:49:33.308042Z",
     "shell.execute_reply.started": "2025-04-09T12:49:33.291380Z"
    }
   },
   "outputs": [],
   "source": [
    "class MNISTNet(nn.Module):\n",
    "    \n",
    "    def __init__(self):\n",
    "        super(MNISTNet, self).__init__()\n",
    "        self.flatten = nn.Flatten()\n",
    "        self.linear_relu_stack = nn.Sequential(\n",
    "            nn.Linear(28*28, 512),\n",
    "            nn.ReLU(),\n",
    "            nn.Linear(512, 512),\n",
    "            nn.ReLU(),\n",
    "            nn.Linear(512, 10),\n",
    "        )\n",
    "        \n",
    "    def forward(self, x):\n",
    "        x = self.flatten(x)\n",
    "        logits = self.linear_relu_stack(x)\n",
    "        return logits"
   ]
  },
  {
   "cell_type": "code",
   "execution_count": 12,
   "metadata": {
    "execution": {
     "iopub.execute_input": "2025-04-09T12:49:33.313258Z",
     "iopub.status.busy": "2025-04-09T12:49:33.310692Z",
     "iopub.status.idle": "2025-04-09T12:49:33.338359Z",
     "shell.execute_reply": "2025-04-09T12:49:33.337219Z",
     "shell.execute_reply.started": "2025-04-09T12:49:33.313200Z"
    },
    "tags": []
   },
   "outputs": [],
   "source": [
    "class LeNet(nn.Module):\n",
    "    \n",
    "    def __init__(self):\n",
    "        super(LeNet, self).__init__()\n",
    "        \n",
    "        self.linear_relu_stack = nn.Sequential(\n",
    "            \n",
    "            nn.Conv2d(in_channels=1, out_channels=6, kernel_size=5, padding=2), \n",
    "            # (28 + 2*2 - 5) / 1 + 1 = 28, 28, 6\n",
    "            nn.ReLU(),\n",
    "            nn.MaxPool2d(kernel_size=2, stride=2),\n",
    "            # (28 - 2)/2 + 1 = 14, 14, 6\n",
    "            \n",
    "            nn.Conv2d(in_channels=6, out_channels=16, kernel_size=5),\n",
    "            # 10, 10, 16\n",
    "            nn.ReLU(),\n",
    "            nn.MaxPool2d(kernel_size=2, stride=2),\n",
    "            # 5, 5, 16\n",
    "            \n",
    "            nn.Flatten(), # 5 * 5 * 16\n",
    "            nn.Linear(5 * 5 * 16, 120),\n",
    "            nn.ReLU(),\n",
    "            nn.Linear(120, 84),\n",
    "            nn.ReLU(),\n",
    "            nn.Linear(84, 10),\n",
    "        )\n",
    "        \n",
    "    def forward(self, x):\n",
    "        # x = self.flatten(x)\n",
    "        logits = self.linear_relu_stack(x)\n",
    "        return logits"
   ]
  },
  {
   "cell_type": "code",
   "execution_count": null,
   "metadata": {
    "execution": {
     "iopub.status.busy": "2025-04-09T12:52:42.024461Z",
     "iopub.status.idle": "2025-04-09T12:52:42.025206Z",
     "shell.execute_reply": "2025-04-09T12:52:42.025029Z",
     "shell.execute_reply.started": "2025-04-09T12:52:42.025001Z"
    }
   },
   "outputs": [],
   "source": [
    "# class AlexNet(nn.Module):\n",
    "    \n",
    "#     def __init__(self):\n",
    "#         super(LeNet, self).__init__()\n",
    "        \n",
    "#         self.linear_relu_stack = nn.Sequential(\n",
    "            \n",
    "#             nn.Conv2d(in_channels=1, out_channels=6, kernel_size=5, padding=2), \n",
    "#             # (28 + 2*2 - 5) / 1 + 1 = 28, 28, 6\n",
    "#             nn.ReLU(),\n",
    "#             nn.MaxPool2d(kernel_size=2, stride=2),\n",
    "#             # (28 - 2)/2 + 1 = 14, 14, 6\n",
    "            \n",
    "#             nn.Conv2d(in_channels=6, out_channels=16, kernel_size=5),\n",
    "#             # 10, 10, 16\n",
    "#             nn.ReLU(),\n",
    "#             nn.MaxPool2d(kernel_size=2, stride=2),\n",
    "#             # 5, 5, 16\n",
    "            \n",
    "#             nn.Flatten(), # 5 * 5 * 16\n",
    "#             nn.Linear(5 * 5 * 16, 120),\n",
    "#             nn.ReLU(),\n",
    "#             nn.Linear(120, 84),\n",
    "#             nn.ReLU(),\n",
    "#             nn.Linear(84, 10),\n",
    "#         )\n",
    "        \n",
    "#     def forward(self, x):\n",
    "#         # x = self.flatten(x)\n",
    "#         logits = self.linear_relu_stack(x)\n",
    "#         return logits"
   ]
  },
  {
   "cell_type": "code",
   "execution_count": 13,
   "metadata": {
    "execution": {
     "iopub.execute_input": "2025-04-09T12:49:33.341150Z",
     "iopub.status.busy": "2025-04-09T12:49:33.339574Z",
     "iopub.status.idle": "2025-04-09T12:49:33.362757Z",
     "shell.execute_reply": "2025-04-09T12:49:33.361586Z",
     "shell.execute_reply.started": "2025-04-09T12:49:33.341105Z"
    },
    "id": "BcyEFX-RgSq8",
    "tags": []
   },
   "outputs": [],
   "source": [
    "# Creating model instance\n",
    "model_task_1 = LeNet()\n",
    "# your code here"
   ]
  },
  {
   "cell_type": "markdown",
   "metadata": {
    "id": "bAoLV4dkoy5M"
   },
   "source": [
    "Не забудьте перенести модель на выбранный `device`!"
   ]
  },
  {
   "cell_type": "code",
   "execution_count": 14,
   "metadata": {
    "execution": {
     "iopub.execute_input": "2025-04-09T12:49:33.365656Z",
     "iopub.status.busy": "2025-04-09T12:49:33.364357Z",
     "iopub.status.idle": "2025-04-09T12:49:33.388543Z",
     "shell.execute_reply": "2025-04-09T12:49:33.387506Z",
     "shell.execute_reply.started": "2025-04-09T12:49:33.365617Z"
    },
    "id": "Xas9SIXDoxvZ",
    "tags": []
   },
   "outputs": [
    {
     "data": {
      "text/plain": [
       "LeNet(\n",
       "  (linear_relu_stack): Sequential(\n",
       "    (0): Conv2d(1, 6, kernel_size=(5, 5), stride=(1, 1), padding=(2, 2))\n",
       "    (1): ReLU()\n",
       "    (2): MaxPool2d(kernel_size=2, stride=2, padding=0, dilation=1, ceil_mode=False)\n",
       "    (3): Conv2d(6, 16, kernel_size=(5, 5), stride=(1, 1))\n",
       "    (4): ReLU()\n",
       "    (5): MaxPool2d(kernel_size=2, stride=2, padding=0, dilation=1, ceil_mode=False)\n",
       "    (6): Flatten(start_dim=1, end_dim=-1)\n",
       "    (7): Linear(in_features=400, out_features=120, bias=True)\n",
       "    (8): ReLU()\n",
       "    (9): Linear(in_features=120, out_features=84, bias=True)\n",
       "    (10): ReLU()\n",
       "    (11): Linear(in_features=84, out_features=10, bias=True)\n",
       "  )\n",
       ")"
      ]
     },
     "execution_count": 14,
     "metadata": {},
     "output_type": "execute_result"
    }
   ],
   "source": [
    "model_task_1.to(device)"
   ]
  },
  {
   "cell_type": "markdown",
   "metadata": {
    "id": "6pLRWysggSq9"
   },
   "source": [
    "Локальные тесты для проверки вашей модели доступны ниже:"
   ]
  },
  {
   "cell_type": "code",
   "execution_count": 15,
   "metadata": {
    "colab": {
     "base_uri": "https://localhost:8080/"
    },
    "execution": {
     "iopub.execute_input": "2025-04-09T12:49:33.391111Z",
     "iopub.status.busy": "2025-04-09T12:49:33.389735Z",
     "iopub.status.idle": "2025-04-09T12:49:33.436313Z",
     "shell.execute_reply": "2025-04-09T12:49:33.435090Z",
     "shell.execute_reply.started": "2025-04-09T12:49:33.391075Z"
    },
    "id": "_qMQzo1ggSq9",
    "outputId": "c00008eb-ef88-4000-ce47-e8dedd26e061",
    "tags": []
   },
   "outputs": [
    {
     "name": "stdout",
     "output_type": "stream",
     "text": [
      "Everything seems fine!\n"
     ]
    }
   ],
   "source": [
    "# do not change the code in the block below\n",
    "# __________start of block__________\n",
    "assert model_task_1 is not None, \"Please, use `model_task_1` variable to store your model\"\n",
    "\n",
    "try:\n",
    "    x = random_batch[0].to(device)\n",
    "    y = random_batch[1].to(device)\n",
    "\n",
    "    # compute outputs given inputs, both are variables\n",
    "    y_predicted = model_task_1(x)\n",
    "except Exception as e:\n",
    "    print(\"Something is wrong with the model\")\n",
    "    raise e\n",
    "\n",
    "\n",
    "assert y_predicted.shape[-1] == 10, \"Model should predict 10 logits/probas\"\n",
    "\n",
    "print(\"Everything seems fine!\")\n",
    "# __________end of block__________"
   ]
  },
  {
   "cell_type": "markdown",
   "metadata": {
    "id": "suRmIPwIgSq9"
   },
   "source": [
    "Настройте параметры модели на обучающей выборке. Также рекомендуем поработать с `learning rate`."
   ]
  },
  {
   "cell_type": "code",
   "execution_count": 16,
   "metadata": {
    "execution": {
     "iopub.execute_input": "2025-04-09T12:49:33.439335Z",
     "iopub.status.busy": "2025-04-09T12:49:33.437850Z",
     "iopub.status.idle": "2025-04-09T12:49:33.461973Z",
     "shell.execute_reply": "2025-04-09T12:49:33.460963Z",
     "shell.execute_reply.started": "2025-04-09T12:49:33.439293Z"
    },
    "id": "YJnU14bdnZa_",
    "tags": []
   },
   "outputs": [],
   "source": [
    "import torch.optim as optim\n",
    "\n",
    "# your code here\n",
    "loss_fn = nn.CrossEntropyLoss()\n",
    "optimizer = optim.Adam(model_task_1.parameters(), lr=1e-3)\n",
    "epochs = 10"
   ]
  },
  {
   "cell_type": "markdown",
   "metadata": {
    "id": "2zce7gt1gSq-"
   },
   "source": [
    "Также, напоминаем, что в любой момент можно обратиться к замечательной [документации](https://pytorch.org/docs/stable/index.html) и [обучающим примерам](https://pytorch.org/tutorials/).  "
   ]
  },
  {
   "cell_type": "code",
   "execution_count": 17,
   "metadata": {
    "execution": {
     "iopub.execute_input": "2025-04-09T12:49:33.465564Z",
     "iopub.status.busy": "2025-04-09T12:49:33.463760Z",
     "iopub.status.idle": "2025-04-09T12:52:31.898777Z",
     "shell.execute_reply": "2025-04-09T12:52:31.897533Z",
     "shell.execute_reply.started": "2025-04-09T12:49:33.465517Z"
    },
    "tags": []
   },
   "outputs": [
    {
     "name": "stderr",
     "output_type": "stream",
     "text": [
      "100%|██████████| 10/10 [02:58<00:00, 17.84s/it]\n"
     ]
    }
   ],
   "source": [
    "epochs = 10\n",
    "train_losses = [0] * epochs\n",
    "test_losses = [0] * epochs\n",
    "\n",
    "from tqdm import tqdm \n",
    "def train(epochs):   \n",
    "    for epoch in tqdm(range(epochs)):\n",
    "        \n",
    "        model_task_1.train()\n",
    "        for batch, (X, y) in enumerate(train_data_loader):\n",
    "            pred = model_task_1(X)\n",
    "            loss = loss_fn(pred, y)\n",
    "            optimizer.zero_grad()\n",
    "            loss.backward()\n",
    "            optimizer.step()\n",
    "            train_losses[epoch] += loss.item()\n",
    "        \n",
    "        model_task_1.eval()\n",
    "        with torch.no_grad():\n",
    "            for batch, (X, y) in enumerate(test_data_loader):\n",
    "                pred = model_task_1(X)\n",
    "                test_losses[epoch] += loss_fn(pred, y).item()\n",
    "\n",
    "train(epochs=epochs)"
   ]
  },
  {
   "cell_type": "code",
   "execution_count": 18,
   "metadata": {
    "execution": {
     "iopub.execute_input": "2025-04-09T12:52:31.902376Z",
     "iopub.status.busy": "2025-04-09T12:52:31.901021Z",
     "iopub.status.idle": "2025-04-09T12:52:32.277189Z",
     "shell.execute_reply": "2025-04-09T12:52:32.276155Z",
     "shell.execute_reply.started": "2025-04-09T12:52:31.902323Z"
    },
    "tags": []
   },
   "outputs": [
    {
     "data": {
      "image/png": "[encoded data removed]",
      "text/plain": [
       "<Figure size 1200x500 with 2 Axes>"
      ]
     },
     "metadata": {},
     "output_type": "display_data"
    }
   ],
   "source": [
    "import matplotlib.pyplot as plt\n",
    "\n",
    "plt.figure(figsize=(12, 5))\n",
    "\n",
    "plt.subplot(1, 2, 1) \n",
    "plt.plot(list(range(epochs)), train_losses, marker='o', color='b', label='train')\n",
    "plt.grid(True)\n",
    "\n",
    "plt.subplot(1, 2, 2) \n",
    "plt.plot(list(range(epochs)), test_losses, marker='o', color='r', label='test')\n",
    "plt.grid(True)\n",
    "\n",
    "plt.tight_layout()\n",
    "plt.show()"
   ]
  },
  {
   "cell_type": "markdown",
   "metadata": {
    "id": "usswrWYOgSq-"
   },
   "source": [
    "Оценим качество классификации:"
   ]
  },
  {
   "cell_type": "code",
   "execution_count": 19,
   "metadata": {
    "execution": {
     "iopub.execute_input": "2025-04-09T12:52:32.280294Z",
     "iopub.status.busy": "2025-04-09T12:52:32.278952Z",
     "iopub.status.idle": "2025-04-09T12:52:40.388643Z",
     "shell.execute_reply": "2025-04-09T12:52:40.387473Z",
     "shell.execute_reply.started": "2025-04-09T12:52:32.280234Z"
    },
    "id": "Xua3TVZHgSq-",
    "tags": []
   },
   "outputs": [
    {
     "name": "stdout",
     "output_type": "stream",
     "text": [
      "Neural network accuracy on train set: 0.92945\n"
     ]
    }
   ],
   "source": [
    "train_acc_task_1 = get_accuracy(model_task_1, train_data_loader)\n",
    "print(f\"Neural network accuracy on train set: {train_acc_task_1:3.5}\")"
   ]
  },
  {
   "cell_type": "code",
   "execution_count": 20,
   "metadata": {
    "execution": {
     "iopub.execute_input": "2025-04-09T12:52:40.391985Z",
     "iopub.status.busy": "2025-04-09T12:52:40.390430Z",
     "iopub.status.idle": "2025-04-09T12:52:41.780474Z",
     "shell.execute_reply": "2025-04-09T12:52:41.779310Z",
     "shell.execute_reply.started": "2025-04-09T12:52:40.391924Z"
    },
    "id": "l9KEKXBxgSq-",
    "tags": []
   },
   "outputs": [
    {
     "name": "stdout",
     "output_type": "stream",
     "text": [
      "Neural network accuracy on test set: 0.8986\n"
     ]
    }
   ],
   "source": [
    "test_acc_task_1 = get_accuracy(model_task_1, test_data_loader)\n",
    "print(f\"Neural network accuracy on test set: {test_acc_task_1:3.5}\")"
   ]
  },
  {
   "cell_type": "markdown",
   "metadata": {
    "id": "4oyhmMobgSq_"
   },
   "source": [
    "Проверка, что необходимые пороги пройдены:"
   ]
  },
  {
   "cell_type": "code",
   "execution_count": 21,
   "metadata": {
    "colab": {
     "base_uri": "https://localhost:8080/",
     "height": 181
    },
    "execution": {
     "iopub.execute_input": "2025-04-09T12:52:41.783402Z",
     "iopub.status.busy": "2025-04-09T12:52:41.782257Z",
     "iopub.status.idle": "2025-04-09T12:52:41.795578Z",
     "shell.execute_reply": "2025-04-09T12:52:41.794564Z",
     "shell.execute_reply.started": "2025-04-09T12:52:41.783361Z"
    },
    "id": "OAIrURCEgSq_",
    "outputId": "7c983690-a92e-4693-89fb-7c86c002921a",
    "tags": []
   },
   "outputs": [],
   "source": [
    "assert test_acc_task_1 >= 0.885, \"Train accuracy is below 0.885 threshold\"\n",
    "assert (\n",
    "    train_acc_task_1 >= 0.905\n",
    "), \"Test accuracy is below 0.905 while test accuracy is fine. We recommend to check your model and data flow\""
   ]
  },
  {
   "cell_type": "markdown",
   "metadata": {},
   "source": [
    "Обращаем внимане, код ниже предполагает, что ваша модель имеет содержится в переменной `model_task_1`, а файл `hw_fmnist_data_dict.npy` находится в той же директории, что и ноутбук (он доступен в репозитории)."
   ]
  },
  {
   "cell_type": "code",
   "execution_count": 32,
   "metadata": {
    "execution": {
     "iopub.execute_input": "2025-04-09T12:57:12.699167Z",
     "iopub.status.busy": "2025-04-09T12:57:12.697769Z",
     "iopub.status.idle": "2025-04-09T12:57:12.896032Z",
     "shell.execute_reply": "2025-04-09T12:57:12.895041Z",
     "shell.execute_reply.started": "2025-04-09T12:57:12.699116Z"
    },
    "tags": []
   },
   "outputs": [
    {
     "name": "stdout",
     "output_type": "stream",
     "text": [
      "File saved to `submission_dict_fmnist_task_1.json`\n"
     ]
    }
   ],
   "source": [
    "# do not change the code in the block below\n",
    "# __________start of block__________\n",
    "assert os.path.exists(\n",
    "    \"hw_fmnist_data_dict.npy\"\n",
    "), \"Please, download `hw_fmnist_data_dict.npy` and place it in the working directory\"\n",
    "\n",
    "loaded_data_dict = np.load(\"hw_fmnist_data_dict.npy\", allow_pickle=True)\n",
    "\n",
    "submission_dict = {\n",
    "    \"train_predictions_task_1\": get_predictions(\n",
    "        model_task_1, torch.FloatTensor(loaded_data_dict.item()[\"train\"])\n",
    "    ),\n",
    "    \"test_predictions_task_1\": get_predictions(\n",
    "        model_task_1, torch.FloatTensor(loaded_data_dict.item()[\"test\"])\n",
    "    ),\n",
    "    \"model_task_1\": parse_pytorch_model(str(model_task_1)),\n",
    "}\n",
    "\n",
    "with open(\"submission_dict_fmnist_task_1.json\", \"w\") as iofile:\n",
    "    json.dump(submission_dict, iofile)\n",
    "print(\"File saved to `submission_dict_fmnist_task_1.json`\")\n",
    "# __________end of block__________"
   ]
  },
  {
   "cell_type": "markdown",
   "metadata": {},
   "source": [
    "### Сдача задания\n",
    "Сдайте сгенерированный файл в соответствующую задачу в соревновании, а именно:\n",
    "    \n",
    "* `submission_dict_task_1.json` в задачу Separation"
   ]
  },
  {
   "cell_type": "markdown",
   "metadata": {
    "id": "OtWnYAN_gSrA"
   },
   "source": [
    "На этом задание завершено. Поздравляем!"
   ]
  },
  {
   "cell_type": "code",
   "execution_count": 31,
   "metadata": {
    "execution": {
     "iopub.execute_input": "2025-04-09T12:57:10.275812Z",
     "iopub.status.busy": "2025-04-09T12:57:10.274552Z",
     "iopub.status.idle": "2025-04-09T12:57:10.292713Z",
     "shell.execute_reply": "2025-04-09T12:57:10.291597Z",
     "shell.execute_reply.started": "2025-04-09T12:57:10.275763Z"
    },
    "tags": []
   },
   "outputs": [],
   "source": [
    "# do not change the code in the block below\n",
    "# __________start of block__________\n",
    "\n",
    "\n",
    "def parse_pytorch_model(model_str):\n",
    "    def parse_layer(layer_str):\n",
    "        layer_info = {}\n",
    "        layer_name, params = layer_str.split(\"(\", 1)\n",
    "        params = params.rstrip(\")\")\n",
    "        layer_info[\"type\"] = layer_name.strip()\n",
    "        param_dict = {}\n",
    "        for param in params.split(\", \"):\n",
    "            # print(param)\n",
    "            if \"=\" in param:\n",
    "                key, value = param.split(\"=\")\n",
    "                # print(key, value) \n",
    "                param_dict[key.strip()] = value.strip() # eval()\n",
    "            else:\n",
    "                param_dict[param.strip()] = None\n",
    "        layer_info[\"parameters\"] = param_dict\n",
    "        return layer_info\n",
    "\n",
    "    model_dict = {}\n",
    "    lines = model_str.splitlines()\n",
    "    model_name = lines[0].strip(\"()\")\n",
    "    model_dict[\"model_name\"] = model_name\n",
    "    model_dict[\"layers\"] = []\n",
    "\n",
    "    layer_regex = re.compile(r\"\\((\\d+)\\): (.+)\")\n",
    "    for line in lines[1:]:\n",
    "        line = line.strip()\n",
    "        match = layer_regex.match(line)\n",
    "        if match:\n",
    "            index, layer = match.groups()\n",
    "            model_dict[\"layers\"].append({\"index\": int(index), \"layer\": parse_layer(layer)})\n",
    "    return model_dict\n",
    "\n",
    "\n",
    "# __________end of block__________"
   ]
  },
  {
   "cell_type": "code",
   "execution_count": null,
   "metadata": {},
   "outputs": [],
   "source": []
  }
 ],
 "metadata": {
  "accelerator": "GPU",
  "colab": {
   "gpuType": "T4",
   "provenance": []
  },
  "kernelspec": {
   "display_name": "DataSphere Kernel",
   "language": "python",
   "name": "python3"
  },
  "language_info": {
   "codemirror_mode": {
    "name": "ipython",
    "version": 3
   },
   "file_extension": ".py",
   "mimetype": "text/x-python",
   "name": "python",
   "nbconvert_exporter": "python",
   "pygments_lexer": "ipython3",
   "version": "3.10.12"
  },
  "toc": {
   "base_numbering": 1,
   "nav_menu": {},
   "number_sections": true,
   "sideBar": true,
   "skip_h1_title": false,
   "title_cell": "Table of Contents",
   "title_sidebar": "Contents",
   "toc_cell": false,
   "toc_position": {},
   "toc_section_display": true,
   "toc_window_display": false
  }
 },
 "nbformat": 4,
 "nbformat_minor": 4
}
