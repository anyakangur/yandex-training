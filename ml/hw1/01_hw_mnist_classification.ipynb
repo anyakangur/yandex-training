{
 "cells": [
  {
   "cell_type": "markdown",
   "metadata": {},
   "source": [
    "## Классификация FashionMNIST\n",
    "\n",
    "##### Автор: [Радослав Нейчев](https://www.linkedin.com/in/radoslav-neychev/), https://t.me/s/girafe_ai"
   ]
  },
  {
   "cell_type": "code",
   "execution_count": 64,
   "metadata": {
    "execution": {
     "iopub.execute_input": "2025-04-08T19:51:17.516081Z",
     "iopub.status.busy": "2025-04-08T19:51:17.514867Z",
     "iopub.status.idle": "2025-04-08T19:51:17.526651Z",
     "shell.execute_reply": "2025-04-08T19:51:17.525924Z",
     "shell.execute_reply.started": "2025-04-08T19:51:17.516020Z"
    },
    "tags": []
   },
   "outputs": [],
   "source": [
    "import numpy as np\n",
    "\n",
    "import torch\n",
    "from torch import nn\n",
    "from torch.nn import functional as F\n",
    "\n",
    "import torchvision\n",
    "from torchvision.datasets import MNIST\n",
    "\n",
    "from matplotlib import pyplot as plt\n",
    "from IPython.display import clear_output"
   ]
  },
  {
   "cell_type": "markdown",
   "metadata": {},
   "source": [
    "Давайте обратимся к классической задаче распознавания рукописных цифр. Мы будем работать с набором данных [MNIST](http://yann.lecun.com/exdb/mnist/). В этом задании мы воспользуемся всем датасетом целиком.\n",
    "\n",
    "__Ваша основная задача: реализовать весь пайплайн обучения модели и добиться качества $\\geq 92\\%$ на тестовой выборке.__\n",
    "\n",
    "Код для обучения модели в данном задании отсутствует. Присутствует лишь несколько тестов, которые помогут вам отладить свое решение. За примером можно обратиться к ноутбуку с первого занятия.\n",
    "\n",
    "Мы настоятельно рекомендуем писать код «с нуля», лишь изредка подглядывая в готовые примеры, а не просто «копировать-вставлять». Это поможет вам в будущем."
   ]
  },
  {
   "cell_type": "code",
   "execution_count": 33,
   "metadata": {
    "execution": {
     "iopub.execute_input": "2025-04-08T18:41:26.931891Z",
     "iopub.status.busy": "2025-04-08T18:41:26.930469Z",
     "iopub.status.idle": "2025-04-08T18:41:27.039223Z",
     "shell.execute_reply": "2025-04-08T18:41:27.038371Z",
     "shell.execute_reply.started": "2025-04-08T18:41:26.931819Z"
    },
    "tags": []
   },
   "outputs": [],
   "source": [
    "# do not change the code in the block below\n",
    "# __________start of block__________\n",
    "\n",
    "train_mnist_data = MNIST('.', train=True, transform=torchvision.transforms.ToTensor(), download=True)\n",
    "test_mnist_data = MNIST('.', train=False, transform=torchvision.transforms.ToTensor(), download=True)\n",
    "\n",
    "\n",
    "train_data_loader = torch.utils.data.DataLoader(\n",
    "    train_mnist_data,\n",
    "    batch_size=32,\n",
    "    shuffle=True,\n",
    "    num_workers=2\n",
    ")\n",
    "\n",
    "test_data_loader = torch.utils.data.DataLoader(\n",
    "    test_mnist_data,\n",
    "    batch_size=32,\n",
    "    shuffle=False,\n",
    "    num_workers=2\n",
    ")"
   ]
  },
  {
   "cell_type": "code",
   "execution_count": 34,
   "metadata": {
    "execution": {
     "iopub.execute_input": "2025-04-08T18:41:27.326052Z",
     "iopub.status.busy": "2025-04-08T18:41:27.324818Z",
     "iopub.status.idle": "2025-04-08T18:41:27.400732Z",
     "shell.execute_reply": "2025-04-08T18:41:27.399773Z",
     "shell.execute_reply.started": "2025-04-08T18:41:27.326008Z"
    },
    "tags": []
   },
   "outputs": [
    {
     "data": {
      "text/plain": [
       "2"
      ]
     },
     "execution_count": 34,
     "metadata": {},
     "output_type": "execute_result"
    }
   ],
   "source": [
    "random_batch = next(iter(train_data_loader))\n",
    "len(random_batch)"
   ]
  },
  {
   "cell_type": "code",
   "execution_count": 4,
   "metadata": {
    "execution": {
     "iopub.execute_input": "2025-04-08T18:10:14.530647Z",
     "iopub.status.busy": "2025-04-08T18:10:14.529822Z",
     "iopub.status.idle": "2025-04-08T18:10:14.829140Z",
     "shell.execute_reply": "2025-04-08T18:10:14.828227Z",
     "shell.execute_reply.started": "2025-04-08T18:10:14.530607Z"
    }
   },
   "outputs": [
    {
     "data": {
      "text/plain": [
       "Text(0.5, 1.0, 'Image label: 7')"
      ]
     },
     "execution_count": 4,
     "metadata": {},
     "output_type": "execute_result"
    },
    {
     "data": {
      "image/png": "[encoded data removed]",
      "text/plain": [
       "<Figure size 640x480 with 1 Axes>"
      ]
     },
     "metadata": {},
     "output_type": "display_data"
    }
   ],
   "source": [
    "\n",
    "_image, _label = random_batch[0][0], random_batch[1][0]\n",
    "plt.figure()\n",
    "plt.imshow(_image.reshape(28, 28))\n",
    "plt.title(f'Image label: {_label}')\n",
    "# __________end of block__________"
   ]
  },
  {
   "cell_type": "code",
   "execution_count": 5,
   "metadata": {
    "execution": {
     "iopub.execute_input": "2025-04-08T18:10:39.370245Z",
     "iopub.status.busy": "2025-04-08T18:10:39.369454Z",
     "iopub.status.idle": "2025-04-08T18:10:39.394805Z",
     "shell.execute_reply": "2025-04-08T18:10:39.394008Z",
     "shell.execute_reply.started": "2025-04-08T18:10:39.370206Z"
    }
   },
   "outputs": [
    {
     "data": {
      "text/plain": [
       "torch.Size([1, 28, 28])"
      ]
     },
     "execution_count": 5,
     "metadata": {},
     "output_type": "execute_result"
    }
   ],
   "source": [
    "_image.shape"
   ]
  },
  {
   "cell_type": "markdown",
   "metadata": {},
   "source": [
    "Постройте модель, представленную ниже. Пожалуйста, не создавайте чрезмерно сложную сеть — она не должна быть глубже четырёх слоёв (можно и меньше). Ваша основная задача — обучить модель и добиться как минимум 92% точности на тестовой выборке (hold-out выборке).\n",
    "\n",
    "*Примечание: линейных слоёв и функций активации должно быть достаточно.*\n",
    "\n",
    "__Обратите внимание, ваша модель должна быть представлена переменной `model`__"
   ]
  },
  {
   "cell_type": "code",
   "execution_count": 17,
   "metadata": {
    "execution": {
     "iopub.execute_input": "2025-04-08T18:18:16.999892Z",
     "iopub.status.busy": "2025-04-08T18:18:16.998679Z",
     "iopub.status.idle": "2025-04-08T18:18:17.014093Z",
     "shell.execute_reply": "2025-04-08T18:18:17.013400Z",
     "shell.execute_reply.started": "2025-04-08T18:18:16.999848Z"
    },
    "tags": []
   },
   "outputs": [],
   "source": [
    "class MNISTNet(nn.Module):\n",
    "    \n",
    "    def __init__(self):\n",
    "        super(MNISTNet, self).__init__()\n",
    "        \n",
    "        self.flatten = nn.Flatten()\n",
    "        \n",
    "        self.linear_relu_stack = nn.Sequential(\n",
    "            nn.Linear(28*28, 512),\n",
    "            nn.ReLU(),\n",
    "            nn.Linear(512, 512),\n",
    "            nn.ReLU(),\n",
    "            nn.Linear(512, 10),\n",
    "        )\n",
    "        \n",
    "    def forward(self, x):\n",
    "        x = self.flatten(x)\n",
    "        logits = self.linear_relu_stack(x)\n",
    "        return logits"
   ]
  },
  {
   "cell_type": "code",
   "execution_count": 18,
   "metadata": {
    "execution": {
     "iopub.execute_input": "2025-04-08T18:18:17.704198Z",
     "iopub.status.busy": "2025-04-08T18:18:17.702868Z",
     "iopub.status.idle": "2025-04-08T18:18:17.725130Z",
     "shell.execute_reply": "2025-04-08T18:18:17.724274Z",
     "shell.execute_reply.started": "2025-04-08T18:18:17.704162Z"
    },
    "tags": []
   },
   "outputs": [],
   "source": [
    "# Creating model instance\n",
    "model = MNISTNet()"
   ]
  },
  {
   "cell_type": "markdown",
   "metadata": {},
   "source": [
    "Ниже доступны локальные тесты для проверки вашей модели:"
   ]
  },
  {
   "cell_type": "code",
   "execution_count": 19,
   "metadata": {
    "execution": {
     "iopub.execute_input": "2025-04-08T18:18:22.748680Z",
     "iopub.status.busy": "2025-04-08T18:18:22.747462Z",
     "iopub.status.idle": "2025-04-08T18:18:22.807489Z",
     "shell.execute_reply": "2025-04-08T18:18:22.806458Z",
     "shell.execute_reply.started": "2025-04-08T18:18:22.748616Z"
    },
    "tags": []
   },
   "outputs": [
    {
     "name": "stdout",
     "output_type": "stream",
     "text": [
      "Everything seems fine!\n"
     ]
    }
   ],
   "source": [
    "# do not change the code in the block below\n",
    "# __________start of block__________\n",
    "assert model is not None, 'Please, use `model` variable to store your model'\n",
    "\n",
    "try:\n",
    "    x = random_batch[0].reshape(-1, 784)\n",
    "    y = random_batch[1]\n",
    "\n",
    "    # compute outputs given inputs, both are variables\n",
    "    y_predicted = model(x)    \n",
    "except Exception as e:\n",
    "    print('Something is wrong with the model')\n",
    "    raise e\n",
    "    \n",
    "    \n",
    "assert y_predicted.shape[-1] == 10, 'Model should predict 10 logits/probas'\n",
    "\n",
    "print('Everything seems fine!')\n",
    "# __________end of block__________"
   ]
  },
  {
   "cell_type": "markdown",
   "metadata": {},
   "source": [
    "Обучите модель на обучающей выборке. Рекомендуем поэкспериментировать с различными оптимизаторами.\n"
   ]
  },
  {
   "cell_type": "code",
   "execution_count": null,
   "metadata": {},
   "outputs": [],
   "source": []
  },
  {
   "cell_type": "code",
   "execution_count": 38,
   "metadata": {
    "execution": {
     "iopub.execute_input": "2025-04-08T19:01:48.650840Z",
     "iopub.status.busy": "2025-04-08T19:01:48.649700Z",
     "iopub.status.idle": "2025-04-08T19:01:48.662407Z",
     "shell.execute_reply": "2025-04-08T19:01:48.661569Z",
     "shell.execute_reply.started": "2025-04-08T19:01:48.650784Z"
    },
    "tags": []
   },
   "outputs": [],
   "source": [
    "# next(iter(train_data_loader))"
   ]
  },
  {
   "cell_type": "code",
   "execution_count": 67,
   "metadata": {
    "execution": {
     "iopub.execute_input": "2025-04-08T19:53:33.034499Z",
     "iopub.status.busy": "2025-04-08T19:53:33.033182Z",
     "iopub.status.idle": "2025-04-08T19:57:08.556811Z",
     "shell.execute_reply": "2025-04-08T19:57:08.555892Z",
     "shell.execute_reply.started": "2025-04-08T19:53:33.034453Z"
    },
    "tags": []
   },
   "outputs": [
    {
     "name": "stderr",
     "output_type": "stream",
     "text": [
      "100%|██████████| 10/10 [03:35<00:00, 21.55s/it]\n"
     ]
    }
   ],
   "source": [
    "import torch.optim as optim\n",
    "\n",
    "loss_fn = nn.CrossEntropyLoss()\n",
    "optimizer = optim.Adam(model.parameters(), lr=1e-3)\n",
    "epochs = 10\n",
    "train_losses = [0] * epochs\n",
    "test_losses = [0] * epochs\n",
    "\n",
    "from tqdm import tqdm \n",
    "def train(epochs):   \n",
    "    for epoch in tqdm(range(epochs)):\n",
    "        \n",
    "        model.train()\n",
    "        for batch, (X, y) in enumerate(train_data_loader):\n",
    "            pred = model(X)\n",
    "            loss = loss_fn(pred, y)\n",
    "            optimizer.zero_grad()\n",
    "            loss.backward()\n",
    "            optimizer.step()\n",
    "            train_losses[epoch] += loss.item()\n",
    "        \n",
    "        model.eval()\n",
    "        with torch.no_grad():\n",
    "            for batch, (X, y) in enumerate(test_data_loader):\n",
    "                pred = model(X)\n",
    "                test_losses[epoch] += loss_fn(pred, y).item()\n",
    "\n",
    "train(epochs=epochs)"
   ]
  },
  {
   "cell_type": "code",
   "execution_count": 76,
   "metadata": {
    "execution": {
     "iopub.execute_input": "2025-04-08T20:00:44.995952Z",
     "iopub.status.busy": "2025-04-08T20:00:44.994309Z",
     "iopub.status.idle": "2025-04-08T20:00:45.233243Z",
     "shell.execute_reply": "2025-04-08T20:00:45.232272Z",
     "shell.execute_reply.started": "2025-04-08T20:00:44.995864Z"
    },
    "tags": []
   },
   "outputs": [
    {
     "data": {
      "image/png": "[encoded data removed]",
      "text/plain": [
       "<Figure size 640x480 with 1 Axes>"
      ]
     },
     "metadata": {},
     "output_type": "display_data"
    }
   ],
   "source": [
    "import matplotlib.pyplot as plt\n",
    "\n",
    "# plt.plot(\n",
    "#     list(range(epochs)), \n",
    "#     train_losses, \n",
    "#     marker='o', color='b', label='train')\n",
    "\n",
    "plt.plot(\n",
    "    list(range(epochs)), \n",
    "    test_losses, \n",
    "    marker='o', color='b', label='test')\n",
    "\n",
    "plt.xlabel('Эпоха')\n",
    "plt.ylabel('Лосс')\n",
    "plt.grid(True)\n",
    "plt.legend()\n",
    "plt.show()"
   ]
  },
  {
   "cell_type": "markdown",
   "metadata": {},
   "source": [
    "Также помните, что вы всегда можете обратиться к отличной [документации](https://pytorch.org/docs/stable/index.html) и [учебным материалам](https://pytorch.org/tutorials/)."
   ]
  },
  {
   "cell_type": "markdown",
   "metadata": {},
   "source": [
    "Оценим качество классификации:"
   ]
  },
  {
   "cell_type": "code",
   "execution_count": 69,
   "metadata": {
    "execution": {
     "iopub.execute_input": "2025-04-08T19:57:27.608017Z",
     "iopub.status.busy": "2025-04-08T19:57:27.606383Z",
     "iopub.status.idle": "2025-04-08T19:57:34.749487Z",
     "shell.execute_reply": "2025-04-08T19:57:34.748324Z",
     "shell.execute_reply.started": "2025-04-08T19:57:27.607968Z"
    }
   },
   "outputs": [],
   "source": [
    "predicted_labels = []\n",
    "real_labels = []\n",
    "model.eval()\n",
    "with torch.no_grad():\n",
    "    for batch in train_data_loader:\n",
    "        y_predicted = model(batch[0].reshape(-1, 784))\n",
    "        predicted_labels.append(y_predicted.argmax(dim=1))\n",
    "        real_labels.append(batch[1])\n",
    "\n",
    "predicted_labels = torch.cat(predicted_labels)\n",
    "real_labels = torch.cat(real_labels)\n",
    "train_acc = (predicted_labels == real_labels).type(torch.FloatTensor).mean()"
   ]
  },
  {
   "cell_type": "code",
   "execution_count": 70,
   "metadata": {
    "execution": {
     "iopub.execute_input": "2025-04-08T19:57:55.182889Z",
     "iopub.status.busy": "2025-04-08T19:57:55.181705Z",
     "iopub.status.idle": "2025-04-08T19:57:55.194798Z",
     "shell.execute_reply": "2025-04-08T19:57:55.194008Z",
     "shell.execute_reply.started": "2025-04-08T19:57:55.182841Z"
    }
   },
   "outputs": [
    {
     "name": "stdout",
     "output_type": "stream",
     "text": [
      "Neural network accuracy on train set: 0.9983\n"
     ]
    }
   ],
   "source": [
    "print(f'Neural network accuracy on train set: {train_acc:3.5}')"
   ]
  },
  {
   "cell_type": "code",
   "execution_count": 71,
   "metadata": {
    "execution": {
     "iopub.execute_input": "2025-04-08T19:57:59.269663Z",
     "iopub.status.busy": "2025-04-08T19:57:59.268540Z",
     "iopub.status.idle": "2025-04-08T19:58:00.667483Z",
     "shell.execute_reply": "2025-04-08T19:58:00.666388Z",
     "shell.execute_reply.started": "2025-04-08T19:57:59.269620Z"
    }
   },
   "outputs": [],
   "source": [
    "predicted_labels = []\n",
    "real_labels = []\n",
    "model.eval()\n",
    "with torch.no_grad():\n",
    "    for batch in test_data_loader:\n",
    "        y_predicted = model(batch[0].reshape(-1, 784))\n",
    "        predicted_labels.append(y_predicted.argmax(dim=1))\n",
    "        real_labels.append(batch[1])\n",
    "\n",
    "predicted_labels = torch.cat(predicted_labels)\n",
    "real_labels = torch.cat(real_labels)\n",
    "test_acc = (predicted_labels == real_labels).type(torch.FloatTensor).mean()"
   ]
  },
  {
   "cell_type": "code",
   "execution_count": 72,
   "metadata": {
    "execution": {
     "iopub.execute_input": "2025-04-08T19:58:01.619253Z",
     "iopub.status.busy": "2025-04-08T19:58:01.617818Z",
     "iopub.status.idle": "2025-04-08T19:58:01.661648Z",
     "shell.execute_reply": "2025-04-08T19:58:01.660528Z",
     "shell.execute_reply.started": "2025-04-08T19:58:01.619198Z"
    }
   },
   "outputs": [
    {
     "name": "stdout",
     "output_type": "stream",
     "text": [
      "Neural network accuracy on test set: 0.9814\n"
     ]
    }
   ],
   "source": [
    "print(f'Neural network accuracy on test set: {test_acc:3.5}')"
   ]
  },
  {
   "cell_type": "markdown",
   "metadata": {},
   "source": [
    "Проверка, что пороги пройдены:"
   ]
  },
  {
   "cell_type": "code",
   "execution_count": 73,
   "metadata": {
    "execution": {
     "iopub.execute_input": "2025-04-08T19:58:05.149811Z",
     "iopub.status.busy": "2025-04-08T19:58:05.148608Z",
     "iopub.status.idle": "2025-04-08T19:58:05.183360Z",
     "shell.execute_reply": "2025-04-08T19:58:05.182442Z",
     "shell.execute_reply.started": "2025-04-08T19:58:05.149762Z"
    }
   },
   "outputs": [],
   "source": [
    "assert test_acc >= 0.92, 'Test accuracy is below 0.92 threshold'\n",
    "assert train_acc >= 0.91, 'Train accuracy is below 0.91 while test accuracy is fine. We recommend to check your model and data flow'"
   ]
  },
  {
   "cell_type": "markdown",
   "metadata": {},
   "source": [
    "Обращаем внимане, код ниже предполагает, что ваша модель имеет содержится в переменной `model`, а файл `hw_mnist_data_dict.npy` находится в той же директории, что и ноутбук (он доступен в репозитории)."
   ]
  },
  {
   "cell_type": "code",
   "execution_count": 75,
   "metadata": {
    "execution": {
     "iopub.execute_input": "2025-04-08T19:59:36.666927Z",
     "iopub.status.busy": "2025-04-08T19:59:36.665899Z",
     "iopub.status.idle": "2025-04-08T19:59:36.785864Z",
     "shell.execute_reply": "2025-04-08T19:59:36.784467Z",
     "shell.execute_reply.started": "2025-04-08T19:59:36.666882Z"
    },
    "tags": []
   },
   "outputs": [
    {
     "name": "stdout",
     "output_type": "stream",
     "text": [
      "File saved to `submission_dict_mnist_task_1.json`\n"
     ]
    }
   ],
   "source": [
    "# do not change the code in the block below\n",
    "# __________start of block__________\n",
    "import os\n",
    "import json\n",
    "assert os.path.exists('hw_mnist_data_dict.npy'), 'Please, download `hw_mnist_data_dict.npy` and place it in the working directory'\n",
    "\n",
    "def get_predictions(model, eval_data, step=10):\n",
    "    \n",
    "    predicted_labels = []\n",
    "    model.eval()\n",
    "    with torch.no_grad():\n",
    "        for idx in range(0, len(eval_data), step):\n",
    "            y_predicted = model(eval_data[idx:idx+step].reshape(-1, 784))\n",
    "            predicted_labels.append(y_predicted.argmax(dim=1))\n",
    "    \n",
    "    predicted_labels = torch.cat(predicted_labels).numpy()\n",
    "    predicted_labels = ','.join([str(x) for x in list(predicted_labels)])\n",
    "    return predicted_labels\n",
    "\n",
    "loaded_data_dict = np.load('hw_mnist_data_dict.npy', allow_pickle=True)\n",
    "\n",
    "submission_dict = {\n",
    "    'train': get_predictions(model, torch.FloatTensor(loaded_data_dict.item()['train'])),\n",
    "    'test': get_predictions(model, torch.FloatTensor(loaded_data_dict.item()['test']))\n",
    "}\n",
    "\n",
    "with open('submission_dict_mnist_task_1.json', 'w') as iofile:\n",
    "    json.dump(submission_dict, iofile)\n",
    "print('File saved to `submission_dict_mnist_task_1.json`')\n",
    "# __________end of block__________"
   ]
  },
  {
   "cell_type": "markdown",
   "metadata": {},
   "source": [
    "### Сдача задания\n",
    "Сдайте сгенерированный файл в соответствующую задачу в соревновании, а именно:\n",
    "    \n",
    "* `submission_dict_mnist_task_1.json` в задачу Warmup (hw_mnist)"
   ]
  },
  {
   "cell_type": "markdown",
   "metadata": {},
   "source": [
    "На этом задание завершено. Поздравляем!"
   ]
  }
 ],
 "metadata": {
  "kernelspec": {
   "display_name": "DataSphere Kernel",
   "language": "python",
   "name": "python3"
  },
  "language_info": {
   "codemirror_mode": {
    "name": "ipython",
    "version": 3
   },
   "file_extension": ".py",
   "mimetype": "text/x-python",
   "name": "python",
   "nbconvert_exporter": "python",
   "pygments_lexer": "ipython3",
   "version": "3.10.12"
  }
 },
 "nbformat": 4,
 "nbformat_minor": 4
}
