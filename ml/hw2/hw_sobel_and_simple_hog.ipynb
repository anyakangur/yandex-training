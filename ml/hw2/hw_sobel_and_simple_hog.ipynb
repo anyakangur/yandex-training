{
 "cells": [
  {
   "cell_type": "markdown",
   "metadata": {
    "id": "nDsVMGiVgSq2"
   },
   "source": [
    "## Фильтры границ\n",
    "\n",
    "##### Автор: [Радослав Нейчев](https://www.linkedin.com/in/radoslav-neychev/), https://t.me/s/girafe_ai"
   ]
  },
  {
   "cell_type": "code",
   "execution_count": 1,
   "metadata": {
    "execution": {
     "iopub.execute_input": "2025-04-14T22:52:16.781031Z",
     "iopub.status.busy": "2025-04-14T22:52:16.780050Z",
     "iopub.status.idle": "2025-04-14T22:52:18.239367Z",
     "shell.execute_reply": "2025-04-14T22:52:18.237857Z",
     "shell.execute_reply.started": "2025-04-14T22:52:16.780959Z"
    },
    "id": "3isBRG6PgSq6",
    "tags": []
   },
   "outputs": [],
   "source": [
    "# do not change the code in the block below\n",
    "# __________start of block__________\n",
    "import json\n",
    "import os\n",
    "import cv2\n",
    "import random\n",
    "\n",
    "import numpy as np\n",
    "import torch\n",
    "import torchvision\n",
    "from IPython.display import clear_output\n",
    "from matplotlib import pyplot as plt\n",
    "from torchvision.datasets import FashionMNIST\n",
    "\n",
    "# __________end of block__________"
   ]
  },
  {
   "cell_type": "markdown",
   "metadata": {
    "id": "zeA6Q5-CgSq7"
   },
   "source": [
    "Продолжим работать с набором данных [FashionMNIST](https://github.com/zalandoresearch/fashion-mnist).\n",
    "\n",
    "__Ваша задача: реализовать механизм выделения границ (Sobel filter) и упрощенный вариант построения гистограммы ориентированных градиентов.__\n",
    "\n",
    "Точность классификации оцениваться не будет, вам лишь необходимо реализовать функции и сдать их в контест.\n",
    "\n",
    "В ноутбуке присутствует несколько тестов, которые помогут вам отладить свое решение."
   ]
  },
  {
   "cell_type": "code",
   "execution_count": 2,
   "metadata": {
    "colab": {
     "base_uri": "https://localhost:8080/",
     "height": 809
    },
    "execution": {
     "iopub.execute_input": "2025-04-14T22:52:18.242842Z",
     "iopub.status.busy": "2025-04-14T22:52:18.241769Z",
     "iopub.status.idle": "2025-04-14T22:52:18.610083Z",
     "shell.execute_reply": "2025-04-14T22:52:18.607748Z",
     "shell.execute_reply.started": "2025-04-14T22:52:18.242781Z"
    },
    "id": "aYcL28OsgSq8",
    "outputId": "93aafa07-fb56-43bd-f928-918f45fe30e6",
    "tags": []
   },
   "outputs": [
    {
     "data": {
      "text/plain": [
       "Text(0.5, 1.0, 'Image label: 2')"
      ]
     },
     "execution_count": 2,
     "metadata": {},
     "output_type": "execute_result"
    },
    {
     "data": {
      "image/png": "[encoded data removed]",
      "text/plain": [
       "<Figure size 640x480 with 1 Axes>"
      ]
     },
     "metadata": {},
     "output_type": "display_data"
    }
   ],
   "source": [
    "# do not change the code in the block below\n",
    "# __________start of block__________\n",
    "\n",
    "train_fmnist_data = FashionMNIST(\n",
    "    \".\", train=True, transform=torchvision.transforms.ToTensor(), download=True\n",
    ")\n",
    "\n",
    "train_data_loader = torch.utils.data.DataLoader(\n",
    "    train_fmnist_data, batch_size=32, shuffle=True, num_workers=2\n",
    ")\n",
    "\n",
    "random_batch = next(iter(train_data_loader))\n",
    "_image, _label = random_batch[0][0], random_batch[1][0]\n",
    "plt.figure()\n",
    "plt.imshow(_image.reshape(28, 28))\n",
    "plt.title(f\"Image label: {_label}\")\n",
    "# __________end of block__________"
   ]
  },
  {
   "cell_type": "markdown",
   "metadata": {
    "tags": []
   },
   "source": [
    "# Шаг 1. Sobel filtering\n",
    "Реализуйте функцию `compute_sobel_gradients_two_loops`. Часть функции уже написана, пожалуйста, не меняйте написанный код."
   ]
  },
  {
   "cell_type": "code",
   "execution_count": 3,
   "metadata": {
    "execution": {
     "iopub.execute_input": "2025-04-14T22:52:18.615527Z",
     "iopub.status.busy": "2025-04-14T22:52:18.613737Z",
     "iopub.status.idle": "2025-04-14T22:52:18.643110Z",
     "shell.execute_reply": "2025-04-14T22:52:18.640735Z",
     "shell.execute_reply.started": "2025-04-14T22:52:18.615473Z"
    },
    "tags": []
   },
   "outputs": [],
   "source": [
    "# do not change the code in the block below\n",
    "# __________start of block__________\n",
    "import numpy as np\n",
    "\n",
    "def compute_sobel_gradients_two_loops(image):\n",
    "    # Get image dimensions\n",
    "    height, width = image.shape\n",
    "\n",
    "    # Initialize output gradients\n",
    "    gradient_x = np.zeros_like(image, dtype=np.float64)\n",
    "    gradient_y = np.zeros_like(image, dtype=np.float64)\n",
    "\n",
    "    # Pad the image with zeros to handle borders\n",
    "    padded_image = np.pad(image, ((1, 1), (1, 1)), mode='constant', constant_values=0)\n",
    "# __________end of block__________\n",
    "\n",
    "    # Define the Sobel kernels for X and Y gradients\n",
    "    sobel_x = np.array([[-1,0,1],[-2,0,2],[-1,0,1]]).flatten() # YOUR CODE HERE\n",
    "    sobel_y = np.array([[-1,-2,-1],[0,0,0],[1,2,1]]).flatten() # YOUR CODE HERE\n",
    "\n",
    "    # Apply Sobel filter for X and Y gradients using convolution\n",
    "    for i in range(1, height + 1):\n",
    "        for j in range(1, width + 1):\n",
    "            window = padded_image[i-1:i+2, j-1:j+2].flatten()\n",
    "            gradient_x[i-1,j-1] = np.dot(window, sobel_x)\n",
    "            gradient_y[i-1,j-1] = np.dot(window, sobel_y)\n",
    "            \n",
    "    return gradient_x, gradient_y"
   ]
  },
  {
   "cell_type": "markdown",
   "metadata": {},
   "source": [
    "Для проверки написанного кода мы обратимся к уже реализованной версии в из opencv. Ввиду того, что операция padding'а может произвоиться иначе, будем игнорировать расхождения на краях изображения."
   ]
  },
  {
   "cell_type": "code",
   "execution_count": 4,
   "metadata": {
    "execution": {
     "iopub.execute_input": "2025-04-14T22:52:18.651387Z",
     "iopub.status.busy": "2025-04-14T22:52:18.649018Z",
     "iopub.status.idle": "2025-04-14T22:52:18.669320Z",
     "shell.execute_reply": "2025-04-14T22:52:18.668102Z",
     "shell.execute_reply.started": "2025-04-14T22:52:18.651281Z"
    },
    "tags": []
   },
   "outputs": [],
   "source": [
    "# do not change the code in the block below\n",
    "# __________start of block__________\n",
    "def compute_sobel_gradients_opencv(image):\n",
    "    # Apply Sobel filter for horizontal and vertical gradients\n",
    "    sobel_x = cv2.Sobel(image, cv2.CV_64F, 1, 0, ksize=3)\n",
    "    sobel_y = cv2.Sobel(image, cv2.CV_64F, 0, 1, ksize=3)\n",
    "    \n",
    "    # Return gradients in both directions\n",
    "    return sobel_x, sobel_y\n",
    "# __________end of block__________\n"
   ]
  },
  {
   "cell_type": "code",
   "execution_count": 5,
   "metadata": {
    "execution": {
     "iopub.execute_input": "2025-04-14T22:52:18.674660Z",
     "iopub.status.busy": "2025-04-14T22:52:18.673006Z",
     "iopub.status.idle": "2025-04-14T22:52:18.705994Z",
     "shell.execute_reply": "2025-04-14T22:52:18.704293Z",
     "shell.execute_reply.started": "2025-04-14T22:52:18.674597Z"
    },
    "tags": []
   },
   "outputs": [
    {
     "name": "stdout",
     "output_type": "stream",
     "text": [
      "(28, 28)\n",
      "Everything seems fine!\n"
     ]
    }
   ],
   "source": [
    "# do not change the code in the block below\n",
    "# __________start of block__________\n",
    "image = train_fmnist_data[7][0][0].numpy()\n",
    "print(image.shape)\n",
    "# image = np.arange(10 * 10).reshape(10, 10)\n",
    "\n",
    "gradients_two_loops = compute_sobel_gradients_two_loops(image)\n",
    "gradients_opencv = compute_sobel_gradients_opencv(image)\n",
    "\n",
    "assert np.allclose(gradients_two_loops[0][1:-1, 1:-1], gradients_opencv[0][1:-1, 1:-1], atol=1e-2), \"gradients_two_loops[0] and gradients_opencv[0] are not close\"\n",
    "assert np.allclose(gradients_two_loops[1][1:-1, 1:-1], gradients_opencv[1][1:-1, 1:-1], atol=1e-2), \"gradients_two_loops[1] and gradients_opencv[1] are not close\"\n",
    "print(\"Everything seems fine!\")\n",
    "# __________end of block__________\n"
   ]
  },
  {
   "cell_type": "code",
   "execution_count": 6,
   "metadata": {
    "execution": {
     "iopub.execute_input": "2025-04-14T22:52:18.710561Z",
     "iopub.status.busy": "2025-04-14T22:52:18.709179Z",
     "iopub.status.idle": "2025-04-14T22:52:19.006509Z",
     "shell.execute_reply": "2025-04-14T22:52:19.004096Z",
     "shell.execute_reply.started": "2025-04-14T22:52:18.710503Z"
    },
    "tags": []
   },
   "outputs": [
    {
     "data": {
      "text/plain": [
       "<matplotlib.image.AxesImage at 0x7fe134d33130>"
      ]
     },
     "execution_count": 6,
     "metadata": {},
     "output_type": "execute_result"
    },
    {
     "data": {
      "image/png": "[encoded data removed]",
      "text/plain": [
       "<Figure size 640x480 with 3 Axes>"
      ]
     },
     "metadata": {},
     "output_type": "display_data"
    }
   ],
   "source": [
    "image = random.choice(train_fmnist_data)[0][0].numpy()\n",
    "gradients_two_loops = compute_sobel_gradients_two_loops(image)\n",
    "\n",
    "plt.subplot(1, 3, 1)\n",
    "plt.imshow(image)\n",
    "plt.subplot(1, 3, 2)\n",
    "plt.imshow(gradients_two_loops[0])\n",
    "plt.subplot(1, 3, 3)\n",
    "plt.imshow(gradients_two_loops[1])"
   ]
  },
  {
   "cell_type": "markdown",
   "metadata": {
    "tags": []
   },
   "source": [
    "# Шаг 2. Подсчет градиентов в полярных координатах.\n",
    "Реализуйте две функции:\n",
    " * `compute_gradient_magnitude`, котрая считает евклидову норму градиента\n",
    " * `compute_gradient_direction`, которая счиает его направление в виде угла относительно оси $x$. Возвращаемый угол должен быть в диапазоне $(-180; 180]$."
   ]
  },
  {
   "cell_type": "code",
   "execution_count": 7,
   "metadata": {
    "execution": {
     "iopub.execute_input": "2025-04-14T22:52:19.011992Z",
     "iopub.status.busy": "2025-04-14T22:52:19.010687Z",
     "iopub.status.idle": "2025-04-14T22:52:19.048482Z",
     "shell.execute_reply": "2025-04-14T22:52:19.046545Z",
     "shell.execute_reply.started": "2025-04-14T22:52:19.011889Z"
    },
    "tags": []
   },
   "outputs": [],
   "source": [
    "import numpy as np # for your convenience when you copy the code to the contest\n",
    "\n",
    "def compute_gradient_magnitude(sobel_x, sobel_y):\n",
    "    '''\n",
    "    Compute the magnitude of the gradient given the x and y gradients.\n",
    "\n",
    "    Inputs:\n",
    "        sobel_x: numpy array of the x gradient.\n",
    "        sobel_y: numpy array of the y gradient.\n",
    "\n",
    "    Returns:\n",
    "        magnitude: numpy array of the same shape as the input [0] with the magnitude of the gradient.\n",
    "    '''\n",
    "    return np.hypot(sobel_x, sobel_y)\n",
    "\n",
    "def compute_gradient_direction(sobel_x, sobel_y):\n",
    "    '''\n",
    "    Compute the direction of the gradient given the x and y gradients. Angle must be in degrees in the range (-180; 180].\n",
    "    Use arctan2 function to compute the angle.\n",
    "\n",
    "    Inputs:\n",
    "        sobel_x: numpy array of the x gradient.\n",
    "        sobel_y: numpy array of the y gradient.\n",
    "\n",
    "    Returns:\n",
    "        gradient_direction: numpy array of the same shape as the input [0] with the direction of the gradient.\n",
    "    '''\n",
    "    direction = np.zeros_like(sobel_x, dtype=np.float64)\n",
    "    height, width = sobel_x.shape\n",
    "    \n",
    "    for i in range(height):\n",
    "        for j in range(width):\n",
    "            direction[i,j] = np.rad2deg(np.arctan2(sobel_y[i,j], sobel_x[i,j]))\n",
    "    return direction\n"
   ]
  },
  {
   "cell_type": "markdown",
   "metadata": {},
   "source": [
    "Небольшие тесты для функции `compute_gradient_direction`"
   ]
  },
  {
   "cell_type": "code",
   "execution_count": 8,
   "metadata": {
    "execution": {
     "iopub.execute_input": "2025-04-14T22:52:19.053080Z",
     "iopub.status.busy": "2025-04-14T22:52:19.050832Z",
     "iopub.status.idle": "2025-04-14T22:52:19.099358Z",
     "shell.execute_reply": "2025-04-14T22:52:19.097185Z",
     "shell.execute_reply.started": "2025-04-14T22:52:19.052993Z"
    },
    "tags": []
   },
   "outputs": [
    {
     "name": "stdout",
     "output_type": "stream",
     "text": [
      "Everything seems fine!\n"
     ]
    }
   ],
   "source": [
    "# do not change the code in the block below\n",
    "# __________start of block__________\n",
    "image = train_fmnist_data[7][0][0].numpy()\n",
    "gradients_two_loops = compute_sobel_gradients_two_loops(image)\n",
    "\n",
    "magnitudes = compute_gradient_magnitude(gradients_two_loops[0], gradients_two_loops[1])\n",
    "angles = compute_gradient_direction(gradients_two_loops[0], gradients_two_loops[1])\n",
    "\n",
    "assert np.all(magnitudes >= 0), \"Magnitudes should be non-negative\"\n",
    "assert np.all(angles > -180) and np.all(angles <= 180), \"Angles should be in the range (-180, 180]\"\n",
    "print(\"Everything seems fine!\")\n",
    "# __________end of block__________"
   ]
  },
  {
   "cell_type": "code",
   "execution_count": 9,
   "metadata": {
    "execution": {
     "iopub.execute_input": "2025-04-14T22:52:19.103150Z",
     "iopub.status.busy": "2025-04-14T22:52:19.101891Z",
     "iopub.status.idle": "2025-04-14T22:52:19.146777Z",
     "shell.execute_reply": "2025-04-14T22:52:19.144493Z",
     "shell.execute_reply.started": "2025-04-14T22:52:19.103053Z"
    },
    "tags": []
   },
   "outputs": [
    {
     "data": {
      "text/plain": [
       "(-179.9388519167104, 180.0)"
      ]
     },
     "execution_count": 9,
     "metadata": {},
     "output_type": "execute_result"
    }
   ],
   "source": [
    "np.min(angles), np.max(angles)"
   ]
  },
  {
   "cell_type": "code",
   "execution_count": 10,
   "metadata": {
    "execution": {
     "iopub.execute_input": "2025-04-14T22:52:19.155950Z",
     "iopub.status.busy": "2025-04-14T22:52:19.154167Z",
     "iopub.status.idle": "2025-04-14T22:52:19.187036Z",
     "shell.execute_reply": "2025-04-14T22:52:19.184784Z",
     "shell.execute_reply.started": "2025-04-14T22:52:19.155842Z"
    },
    "tags": []
   },
   "outputs": [
    {
     "data": {
      "text/plain": [
       "0.06114808328959498"
      ]
     },
     "execution_count": 10,
     "metadata": {},
     "output_type": "execute_result"
    }
   ],
   "source": [
    "np.min(angles) % 180"
   ]
  },
  {
   "cell_type": "markdown",
   "metadata": {},
   "source": [
    "Пример визуализации итоговых границ, полученных с помощью фильтра Собеля:"
   ]
  },
  {
   "cell_type": "code",
   "execution_count": 11,
   "metadata": {
    "execution": {
     "iopub.execute_input": "2025-04-14T22:52:19.191767Z",
     "iopub.status.busy": "2025-04-14T22:52:19.190020Z",
     "iopub.status.idle": "2025-04-14T22:52:19.513770Z",
     "shell.execute_reply": "2025-04-14T22:52:19.512837Z",
     "shell.execute_reply.started": "2025-04-14T22:52:19.191659Z"
    },
    "tags": []
   },
   "outputs": [
    {
     "data": {
      "text/plain": [
       "<matplotlib.image.AxesImage at 0x7fe134e2ed70>"
      ]
     },
     "execution_count": 11,
     "metadata": {},
     "output_type": "execute_result"
    },
    {
     "data": {
      "image/png": "[encoded data removed]",
      "text/plain": [
       "<Figure size 640x480 with 3 Axes>"
      ]
     },
     "metadata": {},
     "output_type": "display_data"
    }
   ],
   "source": [
    "image = random.choice(train_fmnist_data)[0][0].numpy()\n",
    "magnitudes = compute_gradient_magnitude(*compute_sobel_gradients_two_loops(image))\n",
    "angles = compute_gradient_direction(*compute_sobel_gradients_two_loops(image))\n",
    "\n",
    "plt.subplot(1, 3, 1)\n",
    "plt.imshow(image)\n",
    "plt.subplot(1, 3, 2)\n",
    "plt.imshow(magnitudes)\n",
    "plt.subplot(1, 3, 3)\n",
    "plt.imshow(angles)"
   ]
  },
  {
   "cell_type": "markdown",
   "metadata": {},
   "source": [
    "# Шаг 3. Упрощённый вариант HoG.\n",
    "\n",
    "Вам предстоит реализовать гистограмму ориентированных градиентов (HoG). В общем виде это происходит следующим образом:\n",
    "1. Перевод изображения в одноканальное. Если изображение цветное, то оно долнжо быть преобразовано в оттенки серого. Можно воспользоваться формулой из [Wiki](https://en.wikipedia.org/wiki/Grayscale):\n",
    "$$\n",
    "\\text{brightness}_{i, j} = \\text{Red}_{i, j} * 0.2126 + \\text{Green}_{i, j} * 0.7152 + \\text{Blue}_{i, j} * 0.0722,\n",
    "$$\n",
    "но для простоты просто будем усреднять все каналы.\n",
    "\n",
    "*Примечание: это далеко не единственный способ преобразования, и он может быть нелинейным. Подробности доступны по ссылке выше*.\n",
    "\n",
    "2. Вычисление градиентов изображения с помощью фитра Собеля.\n",
    "\n",
    "3. Определение направления и нормы градиента для каждого пикселя.\n",
    "\n",
    "4. Построение гистограмм направлений градиентов. Для этого изображение разбивается на непересекающиеся квадратные ячейки. Размер каждой ячейки задается параметром `pixels_per_cell`, который по умолчанию равен равным (8, 8). Для каждой ячейки изображения строится гистограмму направлений градиентов. Для этого:\n",
    "    * Каждое направление градиента будет отнесено к определенному бину (всего 9 бинов от -180 до 180).\n",
    "    * Для каждого бина все попавшие в нее нормы суммируются.\n",
    "    * Построенная гистограмма нормируется (чтобы сумма всех бинов была равна 1).\n",
    "5. Групповая нормализация гистограмм. Для большей адаптивности метода к изменениям освещенности производится нормировка. Подробнее о ней можно почитать [здесь](https://scikit-image.org/docs/dev/auto_examples/features_detection/plot_hog.html). В данном задании она производиться **не будет**.\n",
    "\n",
    "На этом этапе вам нужно выполнить только шаги 1-4. Обратите внимание, что **групповая нормализация** гистограмм не выполняется (этот шаг пропущен)."
   ]
  },
  {
   "cell_type": "code",
   "execution_count": null,
   "metadata": {},
   "outputs": [],
   "source": []
  },
  {
   "cell_type": "code",
   "execution_count": 12,
   "metadata": {
    "execution": {
     "iopub.execute_input": "2025-04-14T22:52:19.518795Z",
     "iopub.status.busy": "2025-04-14T22:52:19.517118Z",
     "iopub.status.idle": "2025-04-14T22:52:19.545363Z",
     "shell.execute_reply": "2025-04-14T22:52:19.543422Z",
     "shell.execute_reply.started": "2025-04-14T22:52:19.518749Z"
    },
    "tags": []
   },
   "outputs": [],
   "source": [
    "import numpy as np\n",
    "\n",
    "cell_size = 7\n",
    "\n",
    "def compute_hog(image, pixels_per_cell=(cell_size, cell_size), bins=9):\n",
    "    \n",
    "    # 1. Convert the image to grayscale if it's not already (assuming the image is in RGB or BGR)\n",
    "    if len(image.shape) == 3:\n",
    "        image = np.mean(image, axis=2)  \n",
    "    \n",
    "    # 2. Compute gradients with Sobel filter\n",
    "    gradient_x, gradient_y = compute_sobel_gradients_two_loops(image)\n",
    "\n",
    "    # 3. Compute gradient magnitude and direction\n",
    "    magnitude = compute_gradient_magnitude(gradient_x, gradient_y)\n",
    "    direction = compute_gradient_direction(gradient_x, gradient_y)\n",
    "\n",
    "    # 4. Create histograms of gradient directions for each cell\n",
    "    cell_height, cell_width = pixels_per_cell\n",
    "    n_cells_x = image.shape[1] // cell_width\n",
    "    n_cells_y = image.shape[0] // cell_height\n",
    "\n",
    "    histograms = np.zeros((n_cells_y, n_cells_x, bins))\n",
    "    bin_width = 360 / bins  \n",
    "    \n",
    "    for i in range(n_cells_y):\n",
    "        for j in range(n_cells_x):\n",
    "            \n",
    "            # Extract cell\n",
    "            y1, y2 = i * cell_height, (i + 1) * cell_height\n",
    "            x1, x2 = j * cell_width, (j + 1) * cell_width \n",
    "            \n",
    "            cell_magnitude = magnitude[y1:y2, x1:x2].flatten()\n",
    "            cell_direction = direction[y1:y2, x1:x2].flatten()\n",
    "            \n",
    "            # Compute histogram for this cell\n",
    "            for k in range(cell_magnitude.size):\n",
    "                \n",
    "                angle = cell_direction[k]\n",
    "                bin_idx = int((angle + 180) // bin_width)\n",
    "                if bin_idx == 9:\n",
    "                    bin_idx -= 1\n",
    "                if bin_idx == -1:\n",
    "                    bin_idx += 1\n",
    "                    \n",
    "                # print(i, j, bin_idx, bin_width, angle)\n",
    "                histograms[i, j, bin_idx] += cell_magnitude[k]\n",
    "                \n",
    "                # w = (angle % bin_width) / bin_width\n",
    "                # histograms[j, i, bin_idx] += cell_magnitude[k] * (1 - w)\n",
    "                # if bin_idx == bins - 1:\n",
    "                    # histograms[j, i, 0] += cell_magnitude[k] * w\n",
    "                # else:\n",
    "                    # histograms[j, i, bin_idx + 1] += cell_magnitude[k] * w\n",
    "    \n",
    "    \n",
    "    epsilon = 0 # 1e-5\n",
    "    for i in range(n_cells_y):\n",
    "        for j in range(n_cells_x):\n",
    "            norm = np.sum(histograms[i,j]) + epsilon\n",
    "            histograms[i,j] = histograms[i,j] / norm if norm > 0 else 0\n",
    "    return histograms\n"
   ]
  },
  {
   "cell_type": "code",
   "execution_count": 13,
   "metadata": {
    "execution": {
     "iopub.execute_input": "2025-04-14T22:52:19.550062Z",
     "iopub.status.busy": "2025-04-14T22:52:19.548510Z",
     "iopub.status.idle": "2025-04-14T22:52:19.583814Z",
     "shell.execute_reply": "2025-04-14T22:52:19.582076Z",
     "shell.execute_reply.started": "2025-04-14T22:52:19.549971Z"
    },
    "tags": []
   },
   "outputs": [],
   "source": [
    "assert os.path.exists(\"hog_data.npy\") and os.path.exists(\"image_data.npy\"), \"hog_data.npy and image_data.npy should be in the same directory as the notebook\"\n",
    "\n",
    "with open(\"hog_data.npy\", \"rb\") as f:\n",
    "    hog_data = np.load(f, allow_pickle=True)\n",
    "    \n",
    "with open(\"image_data.npy\", \"rb\") as f:\n",
    "    image_data = np.load(f, allow_pickle=True)\n",
    "\n",
    "hog = compute_hog(image_data[0])"
   ]
  },
  {
   "cell_type": "code",
   "execution_count": 14,
   "metadata": {
    "execution": {
     "iopub.execute_input": "2025-04-14T22:52:19.585334Z",
     "iopub.status.busy": "2025-04-14T22:52:19.584840Z",
     "iopub.status.idle": "2025-04-14T22:52:19.601177Z",
     "shell.execute_reply": "2025-04-14T22:52:19.600108Z",
     "shell.execute_reply.started": "2025-04-14T22:52:19.585298Z"
    },
    "tags": []
   },
   "outputs": [],
   "source": [
    "# image_data[0]"
   ]
  },
  {
   "cell_type": "code",
   "execution_count": 15,
   "metadata": {
    "execution": {
     "iopub.execute_input": "2025-04-14T22:52:19.606877Z",
     "iopub.status.busy": "2025-04-14T22:52:19.603905Z",
     "iopub.status.idle": "2025-04-14T22:52:19.629485Z",
     "shell.execute_reply": "2025-04-14T22:52:19.628259Z",
     "shell.execute_reply.started": "2025-04-14T22:52:19.606783Z"
    },
    "tags": []
   },
   "outputs": [
    {
     "name": "stdout",
     "output_type": "stream",
     "text": [
      "(28, 28)\n"
     ]
    }
   ],
   "source": [
    "print(image_data[0].shape)\n",
    "# plt.imshow(image_data[0])"
   ]
  },
  {
   "cell_type": "markdown",
   "metadata": {},
   "source": [
    "Для запуска тестов ниже файлы `hog_data.npy` и `image_data.npy` из репозитория должны быть доступны в той же директории, что и ноутбук. Вы можете скачать их в репозитории."
   ]
  },
  {
   "cell_type": "code",
   "execution_count": 16,
   "metadata": {
    "execution": {
     "iopub.execute_input": "2025-04-14T22:52:19.631044Z",
     "iopub.status.busy": "2025-04-14T22:52:19.630590Z",
     "iopub.status.idle": "2025-04-14T22:52:19.735414Z",
     "shell.execute_reply": "2025-04-14T22:52:19.732819Z",
     "shell.execute_reply.started": "2025-04-14T22:52:19.631011Z"
    },
    "tags": []
   },
   "outputs": [
    {
     "data": {
      "text/plain": [
       "(1.0, 0.9999999999999999)"
      ]
     },
     "execution_count": 16,
     "metadata": {},
     "output_type": "execute_result"
    }
   ],
   "source": [
    "hog = compute_hog(image_data[0])\n",
    "\n",
    "hog[0,1].sum(), hog_data[0][0,1].sum()"
   ]
  },
  {
   "cell_type": "code",
   "execution_count": 17,
   "metadata": {
    "execution": {
     "iopub.execute_input": "2025-04-14T22:52:19.741154Z",
     "iopub.status.busy": "2025-04-14T22:52:19.739875Z",
     "iopub.status.idle": "2025-04-14T22:52:21.181333Z",
     "shell.execute_reply": "2025-04-14T22:52:21.179100Z",
     "shell.execute_reply.started": "2025-04-14T22:52:19.741053Z"
    },
    "tags": []
   },
   "outputs": [
    {
     "data": {
      "image/png": "[encoded data removed]",
      "text/plain": [
       "<Figure size 640x480 with 16 Axes>"
      ]
     },
     "metadata": {},
     "output_type": "display_data"
    }
   ],
   "source": [
    "\n",
    "# plt.figure(figsize=(10, 10))\n",
    "for i in range(hog.shape[0]):\n",
    "    for j in range(hog.shape[1]):\n",
    "        plt.subplot(4, 4, i * 4 + j + 1)\n",
    "        plt.bar(range(9), hog[i, j], color='blue', alpha=0.9)\n",
    "        plt.bar(range(9), hog_data[0][i, j], color='red', alpha=0.7)\n",
    "        # plt.bar(range(9), hog_features[i, j][0][0], color='green', alpha=0.5)\n",
    "        # plt.title(f\"Cell {i}, {j}\")\n",
    "plt.show()"
   ]
  },
  {
   "cell_type": "code",
   "execution_count": 18,
   "metadata": {
    "execution": {
     "iopub.execute_input": "2025-04-14T22:52:21.187067Z",
     "iopub.status.busy": "2025-04-14T22:52:21.184888Z",
     "iopub.status.idle": "2025-04-14T22:52:21.284819Z",
     "shell.execute_reply": "2025-04-14T22:52:21.283748Z",
     "shell.execute_reply.started": "2025-04-14T22:52:21.186985Z"
    },
    "tags": []
   },
   "outputs": [
    {
     "name": "stdout",
     "output_type": "stream",
     "text": [
      "Everything seems fine!\n"
     ]
    }
   ],
   "source": [
    "# do not change the code in the block below\n",
    "# __________start of block__________\n",
    "\n",
    "image = random.choice(train_fmnist_data)[0][0].numpy()\n",
    "\n",
    "hog = compute_hog(image)\n",
    "assert hog.shape == (4, 4, 9), \"hog should have shape (4, 4, 9) for the FashionMNIST image with default parameters\"\n",
    "print(\"Everything seems fine!\")\n",
    "\n",
    "for test_image, test_hog in zip(image_data, hog_data):\n",
    "    hog = compute_hog(test_image)\n",
    "    assert np.allclose(hog, test_hog), \"hog should be the same\"\n",
    "\n",
    "# __________end of block__________"
   ]
  },
  {
   "cell_type": "markdown",
   "metadata": {},
   "source": [
    "Визуализация полученных гистограмм. Сетка выглядит чуть сдвинутой из-за существенного размера пискеля, это нормально."
   ]
  },
  {
   "cell_type": "code",
   "execution_count": 23,
   "metadata": {
    "execution": {
     "iopub.execute_input": "2025-04-14T22:52:21.654087Z",
     "iopub.status.busy": "2025-04-14T22:52:21.651872Z",
     "iopub.status.idle": "2025-04-14T22:52:21.892516Z",
     "shell.execute_reply": "2025-04-14T22:52:21.890376Z",
     "shell.execute_reply.started": "2025-04-14T22:52:21.653977Z"
    },
    "tags": []
   },
   "outputs": [
    {
     "data": {
      "image/png": "[encoded data removed]",
      "text/plain": [
       "<Figure size 640x480 with 1 Axes>"
      ]
     },
     "metadata": {},
     "output_type": "display_data"
    }
   ],
   "source": [
    "#plot all the histograms for (3, 3) cells:\n",
    "image = random.choice(train_fmnist_data)[0][0].numpy()\n",
    "hog = compute_hog(image)\n",
    "\n",
    "row, cel, _ = hog.shape\n",
    "# draw cells on the image\n",
    "plt.imshow(image)\n",
    "for i in range(row):\n",
    "    for j in range(cel):\n",
    "        plt.gca().add_patch(plt.Rectangle(\n",
    "            (j * cell_size, i * cell_size), \n",
    "            cell_size, cell_size, \n",
    "            fill=False, edgecolor='red', linewidth=1))\n",
    "plt.show()"
   ]
  },
  {
   "cell_type": "code",
   "execution_count": null,
   "metadata": {
    "tags": []
   },
   "outputs": [],
   "source": []
  },
  {
   "cell_type": "markdown",
   "metadata": {},
   "source": [
    "### Сдача задания\n",
    "Сдайте функции в задачу в соревновании. Не забудьте, что при вставке кода все импортируемые библиотеки также должны вставляться вместе с вашим кодом. Вы не должны использовать что-либо, кроме `numpy` при написании решения."
   ]
  },
  {
   "cell_type": "markdown",
   "metadata": {
    "id": "OtWnYAN_gSrA"
   },
   "source": [
    "На этом задание завершено. Поздравляем!"
   ]
  }
 ],
 "metadata": {
  "accelerator": "GPU",
  "colab": {
   "gpuType": "T4",
   "provenance": []
  },
  "kernelspec": {
   "display_name": "DataSphere Kernel",
   "language": "python",
   "name": "python3"
  },
  "language_info": {
   "codemirror_mode": {
    "name": "ipython",
    "version": 3
   },
   "file_extension": ".py",
   "mimetype": "text/x-python",
   "name": "python",
   "nbconvert_exporter": "python",
   "pygments_lexer": "ipython3",
   "version": "3.10.12"
  },
  "toc": {
   "base_numbering": 1,
   "nav_menu": {},
   "number_sections": true,
   "sideBar": true,
   "skip_h1_title": false,
   "title_cell": "Table of Contents",
   "title_sidebar": "Contents",
   "toc_cell": false,
   "toc_position": {},
   "toc_section_display": true,
   "toc_window_display": false
  }
 },
 "nbformat": 4,
 "nbformat_minor": 4
}
