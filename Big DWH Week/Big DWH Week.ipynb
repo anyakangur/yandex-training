{
 "cells": [
  {
   "cell_type": "markdown",
   "id": "a4cb4e6c-4403-4c21-9219-333336457323",
   "metadata": {},
   "source": [
    "# Big DWH Week"
   ]
  },
  {
   "cell_type": "markdown",
   "id": "154da1f0-6443-45ae-9229-c326cb8343d6",
   "metadata": {
    "jp-MarkdownHeadingCollapsed": true,
    "tags": []
   },
   "source": [
    "## A. Критическая уязвимость"
   ]
  },
  {
   "cell_type": "markdown",
   "id": "9f958439-e0cb-4698-a0ad-8b4358662902",
   "metadata": {
    "tags": []
   },
   "source": [
    "В n кластерах расположены серверы, на которых установлена одинаковая операционная система. В её ядре обнаружена уязвимость, поэтому необходимо обновить серверы до новой версии ядра.\n",
    "\n",
    "В i-м кластере расположено xi серверов. Обновление одного сервера занимает одну единицу времени. Обновление серверов происходит последовательно, поэтому общее время обновления всех серверов в i-м кластере составляет xi единиц времени.\n",
    "\n",
    "Процесс обновления в одном кластере нельзя прерывать до тех пор, пока все серверы в нём не будут обновлены. Также нельзя одновременно обновлять серверы в двух кластерах.\n",
    "\n",
    "Для каждого кластера выделено окно времени [ai, ai + xi], в течение которого можно проводить обновление. Эти окна могут пересекаться.\n",
    "\n",
    "Необходимо выбрать кластеры, в которых будет проведено обновление, чтобы на как можно большем количестве серверов была установлена новая версия ядра.\n",
    "\n",
    "### Формат ввода\n",
    "\n",
    "В первой строке дано число кластеров n.\n",
    "\n",
    "В каждой из n следующих строк дана пара чисел ai и xi. \n",
    "\n",
    "### Формат вывода\n",
    "\n",
    "В первой строке выходного файла нужно вывести максимальное суммарное количество серверов, на которых возможно обновить ядро.\n",
    "\n",
    "Во второй строке выходного файла нужно вывести разделённые пробелом номера кластеров, в которых следует обновить ядро. Кластеры нумеруются с нуля. Номера можно вывести в произвольном порядке.\n"
   ]
  },
  {
   "cell_type": "markdown",
   "id": "fd6d58bd-9784-4a90-bb27-86208c9c1d3d",
   "metadata": {
    "execution": {
     "iopub.execute_input": "2025-04-11T23:23:28.368353Z",
     "iopub.status.busy": "2025-04-11T23:23:28.366929Z",
     "iopub.status.idle": "2025-04-11T23:23:28.405989Z",
     "shell.execute_reply": "2025-04-11T23:23:28.404950Z",
     "shell.execute_reply.started": "2025-04-11T23:23:28.368302Z"
    },
    "jp-MarkdownHeadingCollapsed": true,
    "tags": []
   },
   "source": [
    "### Пример 1"
   ]
  },
  {
   "cell_type": "markdown",
   "id": "6760aa6f-05d2-4b6d-9f4f-3e266f361dc9",
   "metadata": {},
   "source": [
    "```\n",
    "4\n",
    "1 4\n",
    "4 11\n",
    "8 5\n",
    "12 5\n",
    "```\n",
    "\n",
    "```\n",
    "11\n",
    "1 \n",
    "```"
   ]
  },
  {
   "cell_type": "markdown",
   "id": "ea97f017-a6ff-411d-bad2-ee9bc9862e14",
   "metadata": {
    "jp-MarkdownHeadingCollapsed": true,
    "tags": []
   },
   "source": [
    "### Пример 2"
   ]
  },
  {
   "cell_type": "markdown",
   "id": "4ecd505f-a905-45ee-aa5f-d7386b6ad5de",
   "metadata": {},
   "source": [
    "```\n",
    "4\n",
    "1 4\n",
    "4 11\n",
    "8 3\n",
    "12 5\n",
    "```\n",
    "\n",
    "```\n",
    "12\n",
    "3 2 0 \n",
    "```\n"
   ]
  },
  {
   "cell_type": "markdown",
   "id": "683aa5ae-7b2b-4eb0-b3ad-26758eb3ee30",
   "metadata": {
    "jp-MarkdownHeadingCollapsed": true,
    "tags": []
   },
   "source": [
    "### Пример 3"
   ]
  },
  {
   "cell_type": "markdown",
   "id": "d23a3fa0-219c-47ae-aa11-4e931918c820",
   "metadata": {},
   "source": [
    "```\n",
    "2\n",
    "1 1\n",
    "2 1\n",
    "```\n",
    "\n",
    "```\n",
    "2\n",
    "1 0 \n",
    "```"
   ]
  },
  {
   "cell_type": "markdown",
   "id": "27326130-e826-4f72-be1c-bea9b785f7fc",
   "metadata": {
    "execution": {
     "iopub.execute_input": "2025-04-11T23:22:13.480556Z",
     "iopub.status.busy": "2025-04-11T23:22:13.479793Z",
     "iopub.status.idle": "2025-04-11T23:22:13.493273Z",
     "shell.execute_reply": "2025-04-11T23:22:13.492363Z",
     "shell.execute_reply.started": "2025-04-11T23:22:13.480510Z"
    },
    "jp-MarkdownHeadingCollapsed": true,
    "tags": []
   },
   "source": [
    "### Решение"
   ]
  },
  {
   "cell_type": "code",
   "execution_count": 1,
   "id": "310859e4-0f20-4163-bf3b-bfdeea6a4aed",
   "metadata": {
    "execution": {
     "iopub.execute_input": "2025-04-11T23:02:02.785808Z",
     "iopub.status.busy": "2025-04-11T23:02:02.784489Z",
     "iopub.status.idle": "2025-04-11T23:02:02.917740Z",
     "shell.execute_reply": "2025-04-11T23:02:02.916688Z",
     "shell.execute_reply.started": "2025-04-11T23:02:02.785750Z"
    },
    "tags": []
   },
   "outputs": [],
   "source": [
    "def UpdateMaxServers1(n, a, x):\n",
    "    \n",
    "    a = a.copy()\n",
    "    x = x.copy()\n",
    "\n",
    "    inteavals = [(a[i], a[i] + x[i], x[i], i) for i in range(n)]\n",
    "    inteavals = sorted(inteavals, key=lambda z: z[1])\n",
    "    \n",
    "    a = [inteavals[i][0] for i in range(n)]\n",
    "    b = [inteavals[i][1] for i in range(n)]\n",
    "    x = [inteavals[i][2] for i in range(n)]\n",
    "    index = [inteavals[i][3] for i in range(n)]\n",
    "\n",
    "    f = [0 for _ in range(n)]\n",
    "    nums = [[] for _ in range(n)]\n",
    "    for i in range(n):\n",
    "        fj = [f[j] for j in range(i, -1, -1) if b[j] <= a[i]]\n",
    "        if len(fj) > 0:\n",
    "            f[i] = x[i] + max(fj)\n",
    "            j = f.index(max(fj))\n",
    "            nums[i] = [index[i]] + nums[j]\n",
    "        else:\n",
    "            f[i] = x[i] \n",
    "            nums[i] = [index[i]]\n",
    "    return max(f), nums[f.index(max(f))]"
   ]
  },
  {
   "cell_type": "code",
   "execution_count": 2,
   "id": "7eeecc6a-33a6-47d0-936c-f2e54f836826",
   "metadata": {
    "execution": {
     "iopub.execute_input": "2025-04-11T23:02:02.920674Z",
     "iopub.status.busy": "2025-04-11T23:02:02.919365Z",
     "iopub.status.idle": "2025-04-11T23:02:02.963415Z",
     "shell.execute_reply": "2025-04-11T23:02:02.962372Z",
     "shell.execute_reply.started": "2025-04-11T23:02:02.920604Z"
    },
    "tags": []
   },
   "outputs": [],
   "source": [
    "import bisect\n",
    "\n",
    "def UpdateMaxServers(n, intervals):\n",
    "    \n",
    "    if n == 1:\n",
    "        return intervals[0][1] - intervals[0][0], [0]\n",
    "    \n",
    "    intervals = sorted(intervals, key=lambda z: z[1])\n",
    "    intervals = [[intervals[i][0] for i in range(n)], # start\n",
    "                 [intervals[i][1] for i in range(n)], # finish\n",
    "                 [intervals[i][2] for i in range(n)]] # index\n",
    "    # print(*intervals, sep='\\n')\n",
    "\n",
    "    # записываем наибольшую длинну интервалов\n",
    "    dp = [[] for _ in range(n)]\n",
    "    # будем сохранять индексы с наидлиннейшими интервалами \n",
    "    index = [0 for _ in range(n)]\n",
    "    \n",
    "    for i in range(n):\n",
    "\n",
    "        # находим позицию последнего непересекающего интервала\n",
    "        r = bisect.bisect_right(a=intervals[1], x=intervals[0][i]) \n",
    "        r -= 1 \n",
    "        # если нет таких интервалов\n",
    "        if r == -1: \n",
    "            count_servers = intervals[1][i] - intervals[0][i] # intervals[2][i]\n",
    "            nums_clusters = [intervals[2][i]]\n",
    "        else:\n",
    "            count_servers = dp[index[r]][0] + intervals[1][i] - intervals[0][i]\n",
    "            nums_clusters = dp[index[r]][1] + [intervals[2][i]]\n",
    "        dp[i] = [count_servers, nums_clusters]\n",
    "        \n",
    "        if i > 0 and dp[i][0] <= dp[index[i-1]][0]:\n",
    "            index[i] = index[i-1] \n",
    "        else:\n",
    "            index[i] = i \n",
    "    \n",
    "    maxdp = max(dp)\n",
    "    return maxdp\n",
    "\n",
    "# n = int(input())\n",
    "# intervals = []\n",
    "# for i in range(n):\n",
    "#     a, x = map(int, input().split())\n",
    "#     intervals.append([a, a+x, i])\n",
    "\n",
    "# res = UpdateMaxServers(n, intervals)\n",
    "# print(res[0])\n",
    "# print(*res[1])"
   ]
  },
  {
   "cell_type": "code",
   "execution_count": 3,
   "id": "140665e8-a507-4e83-9b11-2be0c3d35cf8",
   "metadata": {
    "execution": {
     "iopub.execute_input": "2025-04-11T23:02:02.966286Z",
     "iopub.status.busy": "2025-04-11T23:02:02.965168Z",
     "iopub.status.idle": "2025-04-11T23:02:03.052589Z",
     "shell.execute_reply": "2025-04-11T23:02:03.051402Z",
     "shell.execute_reply.started": "2025-04-11T23:02:02.966236Z"
    },
    "tags": []
   },
   "outputs": [
    {
     "name": "stderr",
     "output_type": "stream",
     "text": [
      "100%|██████████| 100/100 [00:00<00:00, 26874.51it/s]\n"
     ]
    }
   ],
   "source": [
    "import random\n",
    "from tqdm import tqdm\n",
    "\n",
    "for _ in tqdm(range(100)):\n",
    "    n = random.randint(1, 10)\n",
    "    # print(n)\n",
    "    a = [0] * n\n",
    "    x = [0] * n\n",
    "    intervals = []\n",
    "    for i in range(n):\n",
    "        a[i] = random.randint(1, 10)\n",
    "        x[i] = random.randint(1, 10)\n",
    "        intervals.append([a[i], a[i]+x[i], i])\n",
    "    res1 = UpdateMaxServers1(n, a, x)\n",
    "    res2 = UpdateMaxServers(n, intervals)\n",
    "    # print(res2)\n",
    "    # break\n",
    "    if res1[0] != res2[0]: # or set(res1[1]) != set(res2[1]):\n",
    "        print(\"!\"*50)\n",
    "        print('n = ', n, 'a =', a, 'x =', x, sep='\\n')\n",
    "        print(res1)\n",
    "        print(res2)\n",
    "        break"
   ]
  },
  {
   "cell_type": "markdown",
   "id": "d2c31aa2-56ac-41d8-b7df-b1cf37389868",
   "metadata": {
    "jp-MarkdownHeadingCollapsed": true,
    "tags": []
   },
   "source": [
    "# B. Ресурсы в дата-центре"
   ]
  },
  {
   "cell_type": "markdown",
   "id": "4e116651-e8c0-4fb5-a275-2f41753770e1",
   "metadata": {},
   "source": [
    "Ввод\n",
    "```\n",
    "8\n",
    "54578972 99368556\n",
    "79699669 54578972\n",
    "64508306 99368556\n",
    "56554555 64508306\n",
    "27101564 81480071\n",
    "89445516 27101564\n",
    "93762227 81480071\n",
    "89808815 93762227\n",
    "4\n",
    "56554555 2\n",
    "93762227 79699669\n",
    "99368556 2\n",
    "64508306 56554555\n",
    "27101564 2\n",
    "99368556 79699669\n",
    "93762227 2\n",
    "56554555 54578972\n",
    "```\n",
    "\n",
    "Вывод\n",
    "```\n",
    "1 79699669\n",
    "2 64508306 56554555\n",
    "0 \n",
    "0 \n",
    "```"
   ]
  },
  {
   "cell_type": "markdown",
   "id": "972b3e1f-46ce-4f45-9c4a-a2e65d321c04",
   "metadata": {},
   "source": [
    "В сети компании есть несколько серверов, каждый из которых имеет свой уникальный номер.\n",
    "\n",
    "Некоторые серверы соединены между собой, образуя группы, или кластеры. Два сервера относятся к одному кластеру, если между ними есть связь.\n",
    "\n",
    "Иногда нужно скачать файл на определённый сервер. В сети есть сервис, похожий на торрент-трекер, который может показать, на каких серверах есть нужный файл.\n",
    "\n",
    "Проблема в том, что сервер может скачивать файлы только с серверов из своего кластера.\n",
    "\n",
    "Напишите программу, которая будет анализировать структуру сети и определять, откуда сервер может скачать нужный файл.\n",
    "\n",
    "### Формат ввода\n",
    "\n",
    "Первая строка содержит целое число N — количество связей между серверами.\n",
    "\n",
    "Следующие N строк описывают связи между серверами. \n",
    "Каждая из них содержит целые числа Ai и Bi — идентификаторы соединённых серверов. У каждого сервера свой уникальный идентификатор.\n",
    "\n",
    "Следующая строка содержит целое число Q — количество запросов на скачивание файлов.\n",
    "\n",
    "Следующие 2Q строк описывают запросы на скачивание файлов.\n",
    "\n",
    "Первая строка каждой пары содержит целые числа Xi и Ki — соответственно идентификатор сервера, на который нужно скачать файл, и количество серверов, содержащих файл. Вторая строка каждой пары содержит Ki целых чисел Yij — идентификаторы серверов, содержащих файл.\n",
    "\n",
    "### Формат вывода\n",
    "\n",
    "Для каждого запроса в отдельной строке выведите сначала целое число Rj — количество серверов, с которых можно скачать файл. Затем выведите Rj целых чисел — идентификаторы серверов, с которых можно скачать файл.\n",
    "\n",
    "Серверы следует выводить в том порядке, в котором они перечислены в описании соответствующего запроса во входных данных."
   ]
  },
  {
   "cell_type": "markdown",
   "id": "2c0f8100-5ccd-497d-ac77-b646e839759f",
   "metadata": {
    "jp-MarkdownHeadingCollapsed": true,
    "tags": []
   },
   "source": [
    "### Пример 1"
   ]
  },
  {
   "cell_type": "markdown",
   "id": "e2e0e62a-478f-4916-bdbb-e451cdf179bb",
   "metadata": {},
   "source": [
    "```\n",
    "8\n",
    "54578972 99368556\n",
    "79699669 54578972\n",
    "64508306 99368556\n",
    "56554555 64508306\n",
    "27101564 81480071\n",
    "89445516 27101564\n",
    "93762227 81480071\n",
    "89808815 93762227\n",
    "4\n",
    "56554555 2\n",
    "93762227 79699669\n",
    "99368556 2\n",
    "64508306 56554555\n",
    "27101564 2\n",
    "99368556 79699669\n",
    "93762227 2\n",
    "56554555 54578972\n",
    "```\n",
    "\n",
    "```\n",
    "1 79699669\n",
    "2 64508306 56554555\n",
    "0 \n",
    "0 \n",
    "```"
   ]
  },
  {
   "cell_type": "markdown",
   "id": "31264d31-0f41-4a94-8bec-a4befb1112cf",
   "metadata": {
    "jp-MarkdownHeadingCollapsed": true,
    "tags": []
   },
   "source": [
    "### Пример 2"
   ]
  },
  {
   "cell_type": "markdown",
   "id": "c0e277e0-8377-4f26-ba96-f60646e67d5d",
   "metadata": {},
   "source": [
    "```\n",
    "10\n",
    "85619126 64616465\n",
    "98159933 85619126\n",
    "73978229 85619126\n",
    "29978081 64616465\n",
    "72404745 29978081\n",
    "97698445 75243921\n",
    "36815728 97698445\n",
    "18360411 97698445\n",
    "66445821 75243921\n",
    "92142380 66445821\n",
    "4\n",
    "97698445 4\n",
    "75243921 92142380 98159933 73978229\n",
    "66445821 4\n",
    "29978081 92142380 73978229 97698445\n",
    "18360411 4\n",
    "29978081 92142380 98159933 97698445\n",
    "36815728 4\n",
    "64616465 92142380 97698445 29978081\n",
    "```\n",
    "\n",
    "```\n",
    "2 75243921 92142380\n",
    "2 92142380 97698445\n",
    "2 92142380 97698445\n",
    "2 92142380 97698445\n",
    "```"
   ]
  },
  {
   "cell_type": "markdown",
   "id": "96777f33-3e65-469d-9778-48a96e9043f2",
   "metadata": {
    "jp-MarkdownHeadingCollapsed": true,
    "tags": []
   },
   "source": [
    "### Решение"
   ]
  },
  {
   "cell_type": "code",
   "execution_count": 4,
   "id": "6bc9d510-057d-45aa-afef-fc24545bbcfa",
   "metadata": {
    "execution": {
     "iopub.execute_input": "2025-04-11T23:02:03.057196Z",
     "iopub.status.busy": "2025-04-11T23:02:03.056057Z",
     "iopub.status.idle": "2025-04-11T23:02:03.072666Z",
     "shell.execute_reply": "2025-04-11T23:02:03.071567Z",
     "shell.execute_reply.started": "2025-04-11T23:02:03.057147Z"
    },
    "tags": []
   },
   "outputs": [],
   "source": [
    "# n = int(input())\n",
    "# nodes, neighbors = [], []\n",
    "# for _ in range(n):\n",
    "#     node, neighbour = map(int, input().split())\n",
    "#     nodes.append(node)\n",
    "#     neighbors.append(neighbour)\n",
    "    \n",
    "# q = int(input())\n",
    "# x, y = [], []\n",
    "# for _ in range(q):\n",
    "#     xx, k = map(int, input().split())\n",
    "#     x.append(xx)\n",
    "#     yi = list(map(int, input().split()))\n",
    "#     y.append(yi)"
   ]
  },
  {
   "cell_type": "code",
   "execution_count": 5,
   "id": "aaf5705b-1681-4151-b8b0-8bdc326efaf0",
   "metadata": {
    "execution": {
     "iopub.execute_input": "2025-04-11T23:02:03.074720Z",
     "iopub.status.busy": "2025-04-11T23:02:03.073984Z",
     "iopub.status.idle": "2025-04-11T23:02:03.103271Z",
     "shell.execute_reply": "2025-04-11T23:02:03.102080Z",
     "shell.execute_reply.started": "2025-04-11T23:02:03.074678Z"
    },
    "tags": []
   },
   "outputs": [],
   "source": [
    "n = 8\n",
    "nodes = [54578972, 79699669, 64508306, 56554555, 27101564, 89445516, 93762227, 89808815]\n",
    "neighbors = [99368556, 54578972, 99368556, 64508306, 81480071, 27101564, 81480071, 93762227]\n",
    "q = 4 \n",
    "# идентификатор сервера, на который нужно скачать файл\n",
    "x = [56554555, 99368556, 27101564, 93762227] \n",
    "# количество серверов, содержащих файл\n",
    "k = [2,2,2,2]\n",
    "# идентификаторы серверов, содержащих файл\n",
    "y = [[93762227, 79699669],[64508306, 56554555],[99368556, 79699669],[56554555, 54578972]] "
   ]
  },
  {
   "cell_type": "code",
   "execution_count": 6,
   "id": "10bdfd37-e3e9-402e-831d-4a9418022f7d",
   "metadata": {
    "execution": {
     "iopub.execute_input": "2025-04-11T23:02:03.106313Z",
     "iopub.status.busy": "2025-04-11T23:02:03.104771Z",
     "iopub.status.idle": "2025-04-11T23:02:03.155894Z",
     "shell.execute_reply": "2025-04-11T23:02:03.154705Z",
     "shell.execute_reply.started": "2025-04-11T23:02:03.106269Z"
    },
    "tags": []
   },
   "outputs": [
    {
     "name": "stdout",
     "output_type": "stream",
     "text": [
      "[54578972, 99368556, 64508306, 56554555, 79699669]\n",
      "[27101564, 81480071, 93762227, 89808815, 89445516]\n",
      "1 79699669\n",
      "2 64508306 56554555\n",
      "0\n",
      "0\n"
     ]
    }
   ],
   "source": [
    "from collections import defaultdict\n",
    "\n",
    "# dct = {}\n",
    "# for i in range(n):\n",
    "#     if nodes[i] not in dct:\n",
    "#         dct[nodes[i]] = i\n",
    "# for i in range(n):\n",
    "#     if neighbors[i] not in dct:\n",
    "#         dct[neighbors[i]] = i + n\n",
    "# print(dct)      \n",
    "\n",
    "graph = defaultdict(list)\n",
    "for i in range(n):\n",
    "    node = nodes[i] # dct[nodes[i]]\n",
    "    neighbor = neighbors[i] # dct[neighbors[i]]\n",
    "    graph[node].append(neighbor)\n",
    "    graph[neighbor].append(node)\n",
    "# for key in graph:\n",
    "#     print(\"node =\", key, \"neigh =\", graph[key])\n",
    "\n",
    "# x = [dct[ind] for ind in x]\n",
    "# y = [[dct[ind] for ind in ind_list] for ind_list in y]\n",
    "\n",
    "def dfs(node, num_components):\n",
    "    visited[node] = num_components\n",
    "    for neighbor in graph[node]:\n",
    "        if neighbor not in visited:\n",
    "            dfs(neighbor, num_components)\n",
    "        \n",
    "visited = {}\n",
    "num_components = 0\n",
    "for node in graph.keys():\n",
    "    if node not in visited:\n",
    "        dfs(node, num_components)\n",
    "        num_components += 1\n",
    "# visited = dict(sorted(visited.items(), key=lambda x: x[0]))\n",
    "# for key in visited:\n",
    "#     print(\"node = \", key, \"num_comp =\", visited[key])\n",
    "\n",
    "components = [[] for _ in range(num_components)]\n",
    "for key in visited:\n",
    "    index = visited[key]\n",
    "    components[index].append(key)\n",
    "print(*components, sep='\\n')\n",
    "\n",
    "# r = [[] for i in range(q)]\n",
    "for i in range(q):\n",
    "    r = []\n",
    "    server_x = x[i]\n",
    "    num_comp = visited[server_x]\n",
    "    # print(\"server_x = \", server_x, \"num_comp =\", num_comp)\n",
    "    for server_y in y[i]:\n",
    "        if server_y in components[num_comp]:\n",
    "            r.append(server_y)\n",
    "    print(len(r), *r)"
   ]
  },
  {
   "cell_type": "markdown",
   "id": "4b45e434-f58b-4bd2-ad62-87bd301ca87c",
   "metadata": {
    "tags": []
   },
   "source": [
    "# C. Упорядочивание серверов"
   ]
  },
  {
   "cell_type": "markdown",
   "id": "0590ab08-078b-4260-abd1-4ca99a03ef5c",
   "metadata": {},
   "source": [
    "Адриана проходит стажировку в новом дата-центре Яндекса, расположенном под Владимиром. В дата-центре n серверов. Они выстроены в линию один за другим и пронумерованы от 1 до n. У каждого сервера свой вес.\n",
    "\n",
    "Для начала Адриана хочет отсортировать первые k серверов по неубыванию веса. Из-за особенностей дата-центра разрешено менять местами только пару соседних серверов, для этого необходимо количество энергии, равное максимальному из весов этих двух серверов.\n",
    "\n",
    "Пока что Адриана не может выбрать конкретное число k, поэтому просит вас посчитать суммарные затраты энергии на упорядочивание для всех возможных значений k от 1 до n.\n",
    "\n",
    "### Формат ввода\n",
    "\n",
    "В первой строке дано целое число n — количество серверов.\n",
    "\n",
    "Во второй строке через пробел записаны n целых чисел wi — вес i-го сервера.\n",
    "\n",
    "### Формат вывода\n",
    "\n",
    "В единственной строке выведите через пробел n целых чисел res_i — суммарное количество энергии, необходимое для упорядочивания первых i серверов."
   ]
  },
  {
   "cell_type": "markdown",
   "id": "d03a53de-8de0-4537-9d5f-4da7babb9f08",
   "metadata": {
    "jp-MarkdownHeadingCollapsed": true,
    "tags": []
   },
   "source": [
    "### Пример 1"
   ]
  },
  {
   "cell_type": "markdown",
   "id": "0f723427-ac57-4538-afbc-9b48ad117f04",
   "metadata": {},
   "source": [
    "```\n",
    "3\n",
    "3 1 2\n",
    "```\n",
    "\n",
    "```\n",
    "0 3 6 \n",
    "```"
   ]
  },
  {
   "cell_type": "markdown",
   "id": "f1cdcc09-49ae-4da1-9358-317e50dac93d",
   "metadata": {
    "jp-MarkdownHeadingCollapsed": true,
    "tags": []
   },
   "source": [
    "### Пример 2"
   ]
  },
  {
   "cell_type": "markdown",
   "id": "68a035ab-f11a-459a-989a-0074a0453e93",
   "metadata": {},
   "source": [
    "```\n",
    "5\n",
    "1 4 3 2 5\n",
    "```\n",
    "\n",
    "```\n",
    "0 0 4 11 11\n",
    "```"
   ]
  },
  {
   "cell_type": "markdown",
   "id": "59063048-f11f-4eb8-972f-81abb06200ee",
   "metadata": {
    "jp-MarkdownHeadingCollapsed": true,
    "tags": []
   },
   "source": [
    "### Решение"
   ]
  },
  {
   "cell_type": "code",
   "execution_count": 7,
   "id": "47f3dba2-7cdf-46d6-aa36-c974715f9648",
   "metadata": {
    "execution": {
     "iopub.execute_input": "2025-04-11T23:02:03.158574Z",
     "iopub.status.busy": "2025-04-11T23:02:03.157277Z",
     "iopub.status.idle": "2025-04-11T23:02:03.196003Z",
     "shell.execute_reply": "2025-04-11T23:02:03.194875Z",
     "shell.execute_reply.started": "2025-04-11T23:02:03.158526Z"
    }
   },
   "outputs": [],
   "source": [
    "n = 3\n",
    "w = [3, 1, 2]\n",
    "ans = [0, 3, 6]\n",
    "\n",
    "n = 5\n",
    "w = [1, 4, 3, 2, 5]\n",
    "ans = [0, 0, 4, 11, 11]"
   ]
  },
  {
   "cell_type": "code",
   "execution_count": 8,
   "id": "21e1a39c-bf2a-4c5b-8332-ade8c0ad07b7",
   "metadata": {
    "execution": {
     "iopub.execute_input": "2025-04-11T23:02:03.198955Z",
     "iopub.status.busy": "2025-04-11T23:02:03.197751Z",
     "iopub.status.idle": "2025-04-11T23:02:03.254501Z",
     "shell.execute_reply": "2025-04-11T23:02:03.253340Z",
     "shell.execute_reply.started": "2025-04-11T23:02:03.198920Z"
    },
    "tags": []
   },
   "outputs": [
    {
     "name": "stdout",
     "output_type": "stream",
     "text": [
      "0 0 4 11 11\n"
     ]
    }
   ],
   "source": [
    "import bisect\n",
    "\n",
    "def wsort(w, n):\n",
    "    if n == 1:\n",
    "        return 0\n",
    "    res = [0] * n\n",
    "    prefix = [0] * n \n",
    "    for i in range(n):\n",
    "        prefix[i] = prefix[i-1] + w[i]\n",
    "    \n",
    "    for k in range(1, n):\n",
    "        j = k\n",
    "        res[k] = res[k-1]\n",
    "        \n",
    "        right = bisect.bisect_right(a=w[:k], x=w[k])\n",
    "        if right != k:\n",
    "            w.insert(right, w[k])\n",
    "            w.pop(k+1)\n",
    "            res[k] += prefix[k-1] - prefix[right-1] if right > 0 else prefix[k-1]\n",
    "            prefix[right] = prefix[right-1] + w[right] if right > 0 else w[right]\n",
    "            for i in range(right + 1, k+1):\n",
    "                prefix[i] = prefix[i-1] + w[i]\n",
    "    return res\n",
    "\n",
    "n = 5\n",
    "w = [1, 4, 3, 2, 5]\n",
    "# ans = [0, 0, 4, 11, 11]\n",
    "\n",
    "# n = 3\n",
    "# w = [3, 1, 2]\n",
    "# ans = [0, 3, 6]\n",
    "print(*wsort(w, n))\n",
    "\n"
   ]
  },
  {
   "cell_type": "markdown",
   "id": "bba98f6a-ae4d-4007-a883-1731d35368d3",
   "metadata": {},
   "source": [
    "# D. Оплата за работу"
   ]
  },
  {
   "cell_type": "code",
   "execution_count": null,
   "id": "e96c7733-6018-4b27-aff6-3581d7436786",
   "metadata": {},
   "outputs": [],
   "source": []
  },
  {
   "cell_type": "code",
   "execution_count": null,
   "id": "01509f22-226f-4488-8ba1-9926801a17a8",
   "metadata": {},
   "outputs": [],
   "source": []
  },
  {
   "cell_type": "code",
   "execution_count": null,
   "id": "7b6834af-779f-4455-b0ec-9b5b84a8bc15",
   "metadata": {},
   "outputs": [],
   "source": []
  }
 ],
 "metadata": {
  "kernelspec": {
   "display_name": "DataSphere Kernel",
   "language": "python",
   "name": "python3"
  },
  "language_info": {
   "codemirror_mode": {
    "name": "ipython",
    "version": 3
   },
   "file_extension": ".py",
   "mimetype": "text/x-python",
   "name": "python",
   "nbconvert_exporter": "python",
   "pygments_lexer": "ipython3",
   "version": "3.10.12"
  }
 },
 "nbformat": 4,
 "nbformat_minor": 5
}
